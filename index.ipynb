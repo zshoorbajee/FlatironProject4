{
 "cells": [
  {
   "cell_type": "markdown",
   "metadata": {},
   "source": [
    "# Predicting Diesaster Tweets ******\n",
    "Flatiron School Data Science: Project 4\n",
    "\n",
    "Advanced Machine Learning Topics **********\n",
    "- **Author**: Zaid Shoorbajee\n",
    "- **Instructor**: Morgan Jones\n",
    "- **Pace**: Flex, 40 weeks"
   ]
  },
  {
   "cell_type": "markdown",
   "metadata": {},
   "source": [
    "## Overview and Business Understanding\n",
    "Lorem ipsum\n",
    "## Data Undersanding\n",
    "Lorem ipsum\n",
    "### Dataset and features\n",
    "Lorem ipsum\n",
    "### Target variable\n",
    "Lorem ipsum\n",
    "### Scoring\n",
    "Lorem ipsum"
   ]
  },
  {
   "cell_type": "code",
   "execution_count": 1,
   "metadata": {},
   "outputs": [],
   "source": [
    "import time\n",
    "start_time = time.time()"
   ]
  },
  {
   "cell_type": "code",
   "execution_count": 2,
   "metadata": {},
   "outputs": [],
   "source": [
    "import numpy as np\n",
    "import pandas as pd\n",
    "\n",
    "from nltk import FreqDist\n",
    "from nltk.tokenize import \\\n",
    "    regexp_tokenize, word_tokenize, RegexpTokenizer\n",
    "from nltk.corpus import stopwords\n",
    "from nltk.stem.snowball import SnowballStemmer\n",
    "from nltk.stem import WordNetLemmatizer\n",
    "import spacy\n",
    "from spacy import displacy\n",
    "nlp = spacy.load('en_core_web_sm')\n",
    "\n",
    "from scipy.stats import ttest_ind\n",
    "from sklearn.model_selection import train_test_split\n",
    "from sklearn.feature_extraction.text import TfidfVectorizer, CountVectorizer\n",
    "from sklearn.naive_bayes import MultinomialNB\n",
    "from sklearn.model_selection import cross_val_score\n",
    "from sklearn.metrics import plot_confusion_matrix, f1_score\n",
    "from sklearn.ensemble import GradientBoostingClassifier, RandomForestClassifier\n",
    "from sklearn.tree import DecisionTreeClassifier\n",
    "from sklearn.preprocessing import StandardScaler\n",
    "\n",
    "from keras import models\n",
    "from keras import layers\n",
    "from keras import regularizers\n",
    "from keras.metrics import Precision, Recall, AUC\n",
    "from keras.callbacks import EarlyStopping, ModelCheckpoint\n",
    "from keras.wrappers.scikit_learn import KerasRegressor\n",
    "\n",
    "import re\n",
    "from collections import OrderedDict, defaultdict, Counter\n",
    "import itertools\n",
    "import string\n",
    "\n",
    "import seaborn as sns\n",
    "import matplotlib.pyplot as plt\n",
    "%matplotlib inline\n",
    "\n",
    "pd.options.display.max_colwidth = 150\n",
    "seed = 7"
   ]
  },
  {
   "cell_type": "code",
   "execution_count": 3,
   "metadata": {},
   "outputs": [],
   "source": [
    "# Need to revise headers\n"
   ]
  },
  {
   "cell_type": "markdown",
   "metadata": {},
   "source": [
    "## Data Preparation"
   ]
  },
  {
   "cell_type": "code",
   "execution_count": 4,
   "metadata": {},
   "outputs": [
    {
     "data": {
      "text/html": [
       "<div>\n",
       "<style scoped>\n",
       "    .dataframe tbody tr th:only-of-type {\n",
       "        vertical-align: middle;\n",
       "    }\n",
       "\n",
       "    .dataframe tbody tr th {\n",
       "        vertical-align: top;\n",
       "    }\n",
       "\n",
       "    .dataframe thead th {\n",
       "        text-align: right;\n",
       "    }\n",
       "</style>\n",
       "<table border=\"1\" class=\"dataframe\">\n",
       "  <thead>\n",
       "    <tr style=\"text-align: right;\">\n",
       "      <th></th>\n",
       "      <th>id</th>\n",
       "      <th>keyword</th>\n",
       "      <th>location</th>\n",
       "      <th>text</th>\n",
       "      <th>target</th>\n",
       "    </tr>\n",
       "  </thead>\n",
       "  <tbody>\n",
       "    <tr>\n",
       "      <th>0</th>\n",
       "      <td>1</td>\n",
       "      <td>NaN</td>\n",
       "      <td>NaN</td>\n",
       "      <td>Our Deeds are the Reason of this #earthquake May ALLAH Forgive us all</td>\n",
       "      <td>1</td>\n",
       "    </tr>\n",
       "    <tr>\n",
       "      <th>1</th>\n",
       "      <td>4</td>\n",
       "      <td>NaN</td>\n",
       "      <td>NaN</td>\n",
       "      <td>Forest fire near La Ronge Sask. Canada</td>\n",
       "      <td>1</td>\n",
       "    </tr>\n",
       "    <tr>\n",
       "      <th>2</th>\n",
       "      <td>5</td>\n",
       "      <td>NaN</td>\n",
       "      <td>NaN</td>\n",
       "      <td>All residents asked to 'shelter in place' are being notified by officers. No other evacuation or shelter in place orders are expected</td>\n",
       "      <td>1</td>\n",
       "    </tr>\n",
       "    <tr>\n",
       "      <th>3</th>\n",
       "      <td>6</td>\n",
       "      <td>NaN</td>\n",
       "      <td>NaN</td>\n",
       "      <td>13,000 people receive #wildfires evacuation orders in California</td>\n",
       "      <td>1</td>\n",
       "    </tr>\n",
       "    <tr>\n",
       "      <th>4</th>\n",
       "      <td>7</td>\n",
       "      <td>NaN</td>\n",
       "      <td>NaN</td>\n",
       "      <td>Just got sent this photo from Ruby #Alaska as smoke from #wildfires pours into a school</td>\n",
       "      <td>1</td>\n",
       "    </tr>\n",
       "    <tr>\n",
       "      <th>5</th>\n",
       "      <td>8</td>\n",
       "      <td>NaN</td>\n",
       "      <td>NaN</td>\n",
       "      <td>#RockyFire Update =&gt; California Hwy. 20 closed in both directions due to Lake County fire - #CAfire #wildfires</td>\n",
       "      <td>1</td>\n",
       "    </tr>\n",
       "    <tr>\n",
       "      <th>6</th>\n",
       "      <td>10</td>\n",
       "      <td>NaN</td>\n",
       "      <td>NaN</td>\n",
       "      <td>#flood #disaster Heavy rain causes flash flooding of streets in Manitou, Colorado Springs areas</td>\n",
       "      <td>1</td>\n",
       "    </tr>\n",
       "    <tr>\n",
       "      <th>7</th>\n",
       "      <td>13</td>\n",
       "      <td>NaN</td>\n",
       "      <td>NaN</td>\n",
       "      <td>I'm on top of the hill and I can see a fire in the woods...</td>\n",
       "      <td>1</td>\n",
       "    </tr>\n",
       "    <tr>\n",
       "      <th>8</th>\n",
       "      <td>14</td>\n",
       "      <td>NaN</td>\n",
       "      <td>NaN</td>\n",
       "      <td>There's an emergency evacuation happening now in the building across the street</td>\n",
       "      <td>1</td>\n",
       "    </tr>\n",
       "    <tr>\n",
       "      <th>9</th>\n",
       "      <td>15</td>\n",
       "      <td>NaN</td>\n",
       "      <td>NaN</td>\n",
       "      <td>I'm afraid that the tornado is coming to our area...</td>\n",
       "      <td>1</td>\n",
       "    </tr>\n",
       "  </tbody>\n",
       "</table>\n",
       "</div>"
      ],
      "text/plain": [
       "   id keyword location  \\\n",
       "0   1     NaN      NaN   \n",
       "1   4     NaN      NaN   \n",
       "2   5     NaN      NaN   \n",
       "3   6     NaN      NaN   \n",
       "4   7     NaN      NaN   \n",
       "5   8     NaN      NaN   \n",
       "6  10     NaN      NaN   \n",
       "7  13     NaN      NaN   \n",
       "8  14     NaN      NaN   \n",
       "9  15     NaN      NaN   \n",
       "\n",
       "                                                                                                                                    text  \\\n",
       "0                                                                  Our Deeds are the Reason of this #earthquake May ALLAH Forgive us all   \n",
       "1                                                                                                 Forest fire near La Ronge Sask. Canada   \n",
       "2  All residents asked to 'shelter in place' are being notified by officers. No other evacuation or shelter in place orders are expected   \n",
       "3                                                                      13,000 people receive #wildfires evacuation orders in California    \n",
       "4                                               Just got sent this photo from Ruby #Alaska as smoke from #wildfires pours into a school    \n",
       "5                         #RockyFire Update => California Hwy. 20 closed in both directions due to Lake County fire - #CAfire #wildfires   \n",
       "6                                        #flood #disaster Heavy rain causes flash flooding of streets in Manitou, Colorado Springs areas   \n",
       "7                                                                            I'm on top of the hill and I can see a fire in the woods...   \n",
       "8                                                        There's an emergency evacuation happening now in the building across the street   \n",
       "9                                                                                   I'm afraid that the tornado is coming to our area...   \n",
       "\n",
       "   target  \n",
       "0       1  \n",
       "1       1  \n",
       "2       1  \n",
       "3       1  \n",
       "4       1  \n",
       "5       1  \n",
       "6       1  \n",
       "7       1  \n",
       "8       1  \n",
       "9       1  "
      ]
     },
     "execution_count": 4,
     "metadata": {},
     "output_type": "execute_result"
    }
   ],
   "source": [
    "# Loading and previewing the dataset\n",
    "\n",
    "df = pd.read_csv('./data/disaster_tweets/train.csv')\n",
    "df.head(10)"
   ]
  },
  {
   "cell_type": "code",
   "execution_count": 5,
   "metadata": {},
   "outputs": [
    {
     "name": "stdout",
     "output_type": "stream",
     "text": [
      "<class 'pandas.core.frame.DataFrame'>\n",
      "RangeIndex: 7613 entries, 0 to 7612\n",
      "Data columns (total 5 columns):\n",
      " #   Column    Non-Null Count  Dtype \n",
      "---  ------    --------------  ----- \n",
      " 0   id        7613 non-null   int64 \n",
      " 1   keyword   7552 non-null   object\n",
      " 2   location  5080 non-null   object\n",
      " 3   text      7613 non-null   object\n",
      " 4   target    7613 non-null   int64 \n",
      "dtypes: int64(2), object(3)\n",
      "memory usage: 297.5+ KB\n"
     ]
    }
   ],
   "source": [
    "df.info()"
   ]
  },
  {
   "cell_type": "code",
   "execution_count": 6,
   "metadata": {},
   "outputs": [
    {
     "data": {
      "text/plain": [
       "id             0\n",
       "keyword       61\n",
       "location    2533\n",
       "text           0\n",
       "target         0\n",
       "dtype: int64"
      ]
     },
     "execution_count": 6,
     "metadata": {},
     "output_type": "execute_result"
    }
   ],
   "source": [
    "df.isna().sum()"
   ]
  },
  {
   "cell_type": "markdown",
   "metadata": {},
   "source": [
    "### Keyword and location columns\n",
    "\n",
    "The `location` column doesn't have much usable information in some cases it's just nonsense:"
   ]
  },
  {
   "cell_type": "code",
   "execution_count": 7,
   "metadata": {},
   "outputs": [
    {
     "name": "stdout",
     "output_type": "stream",
     "text": [
      "Sample of some of the location values\n"
     ]
    },
    {
     "data": {
      "text/plain": [
       "['World Wide!!',\n",
       " 'Paranaque City',\n",
       " 'Live On Webcam',\n",
       " 'milky way',\n",
       " 'GREENSBORO,NORTH CAROLINA',\n",
       " 'England.',\n",
       " 'Sheffield Township, Ohio',\n",
       " 'India',\n",
       " 'Barbados',\n",
       " 'Anaheim']"
      ]
     },
     "execution_count": 7,
     "metadata": {},
     "output_type": "execute_result"
    }
   ],
   "source": [
    "print('Sample of some of the location values')\n",
    "df['location'].unique()[7:17].tolist()"
   ]
  },
  {
   "cell_type": "markdown",
   "metadata": {},
   "source": [
    "Therefore I will not be using this column as a feature."
   ]
  },
  {
   "cell_type": "markdown",
   "metadata": {},
   "source": [
    "The `keyword` column shows what was used to search for relevant tweets. I don't plan to use this as a feature in the model, but this column can give use insight as to what kinds of tweets the keywords yield. "
   ]
  },
  {
   "cell_type": "code",
   "execution_count": 8,
   "metadata": {},
   "outputs": [],
   "source": [
    "# Counter(df['keyword'])"
   ]
  },
  {
   "cell_type": "code",
   "execution_count": 9,
   "metadata": {},
   "outputs": [],
   "source": [
    "# `keyword` has 61 missing values\n",
    "# Filling missing values with 'missing_keyword' so I can visualize.\n",
    "\n",
    "## df['keyword'] = df['keyword'].fillna('missing_keyword')"
   ]
  },
  {
   "cell_type": "code",
   "execution_count": 10,
   "metadata": {},
   "outputs": [],
   "source": [
    "# df['keyword_count_0'] = \\\n",
    "#     df['keyword'].apply(\n",
    "#         lambda x: Counter(df['keyword'][df['target'] == 0])[x]\n",
    "#         )\n",
    "# df['keyword_count_1'] = \\\n",
    "#     df['keyword'].apply(\n",
    "#         lambda x: Counter(df['keyword'][df['target'] == 1])[x]\n",
    "#         )"
   ]
  },
  {
   "cell_type": "code",
   "execution_count": 11,
   "metadata": {},
   "outputs": [],
   "source": [
    "# fig, axes = plt.subplots(ncols=2, figsize=(15, 50))\n",
    "\n",
    "# sns.countplot(\n",
    "#     y=df[df['target']==0].sort_values(\n",
    "#         by='keyword_count_0', ascending=False\n",
    "#         )['keyword'],\n",
    "#     color='blue',\n",
    "#     ax=axes[0]\n",
    "#     )\n",
    "# sns.countplot(\n",
    "#     y=df[df['target']==1].sort_values(\n",
    "#         by='keyword_count_1', ascending=False\n",
    "#         )['keyword'],\n",
    "#     color='red',\n",
    "#     ax=axes[1]\n",
    "#     )\n",
    "\n",
    "# axes[0].set_title('Non-disaster tweets')\n",
    "# axes[1].set_title('Disaster tweets')\n",
    "\n",
    "# plt.tight_layout()\n",
    "# plt.show()"
   ]
  },
  {
   "cell_type": "markdown",
   "metadata": {},
   "source": [
    "### Tweets and Target"
   ]
  },
  {
   "cell_type": "markdown",
   "metadata": {},
   "source": [
    "The main feature is `text`, which is the full text of the given tweet. Each tweet is labeled in `target` as referring to a disaster (1) or not (0).\n",
    "\n",
    "Before proceeding, I'll check if there are any tweets that are duplicated."
   ]
  },
  {
   "cell_type": "code",
   "execution_count": 12,
   "metadata": {},
   "outputs": [
    {
     "data": {
      "text/plain": [
       "110"
      ]
     },
     "execution_count": 12,
     "metadata": {},
     "output_type": "execute_result"
    }
   ],
   "source": [
    "df['text'].duplicated().sum()"
   ]
  },
  {
   "cell_type": "markdown",
   "metadata": {},
   "source": [
    "There are numerous duplicated tweets, perhaps tweeted by different accounts. The most concerning part of this is that some of these duplicates have contradicting labels:"
   ]
  },
  {
   "cell_type": "code",
   "execution_count": 13,
   "metadata": {},
   "outputs": [
    {
     "data": {
      "text/html": [
       "<div>\n",
       "<style scoped>\n",
       "    .dataframe tbody tr th:only-of-type {\n",
       "        vertical-align: middle;\n",
       "    }\n",
       "\n",
       "    .dataframe tbody tr th {\n",
       "        vertical-align: top;\n",
       "    }\n",
       "\n",
       "    .dataframe thead th {\n",
       "        text-align: right;\n",
       "    }\n",
       "</style>\n",
       "<table border=\"1\" class=\"dataframe\">\n",
       "  <thead>\n",
       "    <tr style=\"text-align: right;\">\n",
       "      <th></th>\n",
       "      <th>id</th>\n",
       "      <th>keyword</th>\n",
       "      <th>location</th>\n",
       "      <th>text</th>\n",
       "      <th>target</th>\n",
       "    </tr>\n",
       "  </thead>\n",
       "  <tbody>\n",
       "    <tr>\n",
       "      <th>3240</th>\n",
       "      <td>4656</td>\n",
       "      <td>engulfed</td>\n",
       "      <td>NaN</td>\n",
       "      <td>He came to a land which was engulfed in tribal war and turned it into a land of peace i.e. Madinah. #ProphetMuhammad #islam</td>\n",
       "      <td>0</td>\n",
       "    </tr>\n",
       "    <tr>\n",
       "      <th>3243</th>\n",
       "      <td>4659</td>\n",
       "      <td>engulfed</td>\n",
       "      <td>Kuwait</td>\n",
       "      <td>He came to a land which was engulfed in tribal war and turned it into a land of peace i.e. Madinah. #ProphetMuhammad #islam</td>\n",
       "      <td>1</td>\n",
       "    </tr>\n",
       "    <tr>\n",
       "      <th>3248</th>\n",
       "      <td>4669</td>\n",
       "      <td>engulfed</td>\n",
       "      <td>Bahrain</td>\n",
       "      <td>He came to a land which was engulfed in tribal war and turned it into a land of peace i.e. Madinah. #ProphetMuhammad #islam</td>\n",
       "      <td>1</td>\n",
       "    </tr>\n",
       "    <tr>\n",
       "      <th>3251</th>\n",
       "      <td>4672</td>\n",
       "      <td>engulfed</td>\n",
       "      <td>NaN</td>\n",
       "      <td>He came to a land which was engulfed in tribal war and turned it into a land of peace i.e. Madinah. #ProphetMuhammad #islam</td>\n",
       "      <td>0</td>\n",
       "    </tr>\n",
       "    <tr>\n",
       "      <th>3261</th>\n",
       "      <td>4684</td>\n",
       "      <td>engulfed</td>\n",
       "      <td>NaN</td>\n",
       "      <td>He came to a land which was engulfed in tribal war and turned it into a land of peace i.e. Madinah. #ProphetMuhammad #islam</td>\n",
       "      <td>0</td>\n",
       "    </tr>\n",
       "    <tr>\n",
       "      <th>3266</th>\n",
       "      <td>4691</td>\n",
       "      <td>engulfed</td>\n",
       "      <td>NaN</td>\n",
       "      <td>He came to a land which was engulfed in tribal war and turned it into a land of peace i.e. Madinah. #ProphetMuhammad #islam</td>\n",
       "      <td>0</td>\n",
       "    </tr>\n",
       "  </tbody>\n",
       "</table>\n",
       "</div>"
      ],
      "text/plain": [
       "        id   keyword location  \\\n",
       "3240  4656  engulfed      NaN   \n",
       "3243  4659  engulfed  Kuwait    \n",
       "3248  4669  engulfed  Bahrain   \n",
       "3251  4672  engulfed      NaN   \n",
       "3261  4684  engulfed      NaN   \n",
       "3266  4691  engulfed      NaN   \n",
       "\n",
       "                                                                                                                             text  \\\n",
       "3240  He came to a land which was engulfed in tribal war and turned it into a land of peace i.e. Madinah. #ProphetMuhammad #islam   \n",
       "3243  He came to a land which was engulfed in tribal war and turned it into a land of peace i.e. Madinah. #ProphetMuhammad #islam   \n",
       "3248  He came to a land which was engulfed in tribal war and turned it into a land of peace i.e. Madinah. #ProphetMuhammad #islam   \n",
       "3251  He came to a land which was engulfed in tribal war and turned it into a land of peace i.e. Madinah. #ProphetMuhammad #islam   \n",
       "3261  He came to a land which was engulfed in tribal war and turned it into a land of peace i.e. Madinah. #ProphetMuhammad #islam   \n",
       "3266  He came to a land which was engulfed in tribal war and turned it into a land of peace i.e. Madinah. #ProphetMuhammad #islam   \n",
       "\n",
       "      target  \n",
       "3240       0  \n",
       "3243       1  \n",
       "3248       1  \n",
       "3251       0  \n",
       "3261       0  \n",
       "3266       0  "
      ]
     },
     "execution_count": 13,
     "metadata": {},
     "output_type": "execute_result"
    }
   ],
   "source": [
    "df[df['text'] == \"He came to a land which was engulfed in tribal war and turned it into a land of peace i.e. Madinah. #ProphetMuhammad #islam\"]"
   ]
  },
  {
   "cell_type": "code",
   "execution_count": 14,
   "metadata": {},
   "outputs": [
    {
     "data": {
      "text/html": [
       "<div>\n",
       "<style scoped>\n",
       "    .dataframe tbody tr th:only-of-type {\n",
       "        vertical-align: middle;\n",
       "    }\n",
       "\n",
       "    .dataframe tbody tr th {\n",
       "        vertical-align: top;\n",
       "    }\n",
       "\n",
       "    .dataframe thead th {\n",
       "        text-align: right;\n",
       "    }\n",
       "</style>\n",
       "<table border=\"1\" class=\"dataframe\">\n",
       "  <thead>\n",
       "    <tr style=\"text-align: right;\">\n",
       "      <th></th>\n",
       "      <th>id</th>\n",
       "      <th>keyword</th>\n",
       "      <th>location</th>\n",
       "      <th>text</th>\n",
       "      <th>target</th>\n",
       "    </tr>\n",
       "  </thead>\n",
       "  <tbody>\n",
       "    <tr>\n",
       "      <th>2830</th>\n",
       "      <td>4068</td>\n",
       "      <td>displaced</td>\n",
       "      <td>Pedophile hunting ground</td>\n",
       "      <td>.POTUS #StrategicPatience is a strategy for #Genocide; refugees; IDP Internally displaced people; horror; etc. https://t.co/rqWuoy1fm4</td>\n",
       "      <td>1</td>\n",
       "    </tr>\n",
       "    <tr>\n",
       "      <th>2831</th>\n",
       "      <td>4072</td>\n",
       "      <td>displaced</td>\n",
       "      <td>Pedophile hunting ground</td>\n",
       "      <td>.POTUS #StrategicPatience is a strategy for #Genocide; refugees; IDP Internally displaced people; horror; etc. https://t.co/rqWuoy1fm4</td>\n",
       "      <td>1</td>\n",
       "    </tr>\n",
       "    <tr>\n",
       "      <th>2832</th>\n",
       "      <td>4076</td>\n",
       "      <td>displaced</td>\n",
       "      <td>Pedophile hunting ground</td>\n",
       "      <td>.POTUS #StrategicPatience is a strategy for #Genocide; refugees; IDP Internally displaced people; horror; etc. https://t.co/rqWuoy1fm4</td>\n",
       "      <td>0</td>\n",
       "    </tr>\n",
       "    <tr>\n",
       "      <th>2833</th>\n",
       "      <td>4077</td>\n",
       "      <td>displaced</td>\n",
       "      <td>Pedophile hunting ground</td>\n",
       "      <td>.POTUS #StrategicPatience is a strategy for #Genocide; refugees; IDP Internally displaced people; horror; etc. https://t.co/rqWuoy1fm4</td>\n",
       "      <td>1</td>\n",
       "    </tr>\n",
       "  </tbody>\n",
       "</table>\n",
       "</div>"
      ],
      "text/plain": [
       "        id    keyword                  location  \\\n",
       "2830  4068  displaced  Pedophile hunting ground   \n",
       "2831  4072  displaced  Pedophile hunting ground   \n",
       "2832  4076  displaced  Pedophile hunting ground   \n",
       "2833  4077  displaced  Pedophile hunting ground   \n",
       "\n",
       "                                                                                                                                        text  \\\n",
       "2830  .POTUS #StrategicPatience is a strategy for #Genocide; refugees; IDP Internally displaced people; horror; etc. https://t.co/rqWuoy1fm4   \n",
       "2831  .POTUS #StrategicPatience is a strategy for #Genocide; refugees; IDP Internally displaced people; horror; etc. https://t.co/rqWuoy1fm4   \n",
       "2832  .POTUS #StrategicPatience is a strategy for #Genocide; refugees; IDP Internally displaced people; horror; etc. https://t.co/rqWuoy1fm4   \n",
       "2833  .POTUS #StrategicPatience is a strategy for #Genocide; refugees; IDP Internally displaced people; horror; etc. https://t.co/rqWuoy1fm4   \n",
       "\n",
       "      target  \n",
       "2830       1  \n",
       "2831       1  \n",
       "2832       0  \n",
       "2833       1  "
      ]
     },
     "execution_count": 14,
     "metadata": {},
     "output_type": "execute_result"
    }
   ],
   "source": [
    "df[df['text'] == \".POTUS #StrategicPatience is a strategy for #Genocide; refugees; IDP Internally displaced people; horror; etc. https://t.co/rqWuoy1fm4\"]"
   ]
  },
  {
   "cell_type": "code",
   "execution_count": 15,
   "metadata": {},
   "outputs": [
    {
     "data": {
      "text/html": [
       "<div>\n",
       "<style scoped>\n",
       "    .dataframe tbody tr th:only-of-type {\n",
       "        vertical-align: middle;\n",
       "    }\n",
       "\n",
       "    .dataframe tbody tr th {\n",
       "        vertical-align: top;\n",
       "    }\n",
       "\n",
       "    .dataframe thead th {\n",
       "        text-align: right;\n",
       "    }\n",
       "</style>\n",
       "<table border=\"1\" class=\"dataframe\">\n",
       "  <thead>\n",
       "    <tr style=\"text-align: right;\">\n",
       "      <th></th>\n",
       "      <th>id</th>\n",
       "      <th>keyword</th>\n",
       "      <th>location</th>\n",
       "      <th>text</th>\n",
       "      <th>target</th>\n",
       "    </tr>\n",
       "  </thead>\n",
       "  <tbody>\n",
       "    <tr>\n",
       "      <th>4232</th>\n",
       "      <td>6012</td>\n",
       "      <td>hazardous</td>\n",
       "      <td>NaN</td>\n",
       "      <td>Caution: breathing may be hazardous to your health.</td>\n",
       "      <td>1</td>\n",
       "    </tr>\n",
       "    <tr>\n",
       "      <th>4235</th>\n",
       "      <td>6017</td>\n",
       "      <td>hazardous</td>\n",
       "      <td>NaN</td>\n",
       "      <td>Caution: breathing may be hazardous to your health.</td>\n",
       "      <td>0</td>\n",
       "    </tr>\n",
       "  </tbody>\n",
       "</table>\n",
       "</div>"
      ],
      "text/plain": [
       "        id    keyword location  \\\n",
       "4232  6012  hazardous      NaN   \n",
       "4235  6017  hazardous      NaN   \n",
       "\n",
       "                                                     text  target  \n",
       "4232  Caution: breathing may be hazardous to your health.       1  \n",
       "4235  Caution: breathing may be hazardous to your health.       0  "
      ]
     },
     "execution_count": 15,
     "metadata": {},
     "output_type": "execute_result"
    }
   ],
   "source": [
    "df[df['text'] == \"Caution: breathing may be hazardous to your health.\"]"
   ]
  },
  {
   "cell_type": "code",
   "execution_count": 16,
   "metadata": {},
   "outputs": [
    {
     "data": {
      "text/html": [
       "<div>\n",
       "<style scoped>\n",
       "    .dataframe tbody tr th:only-of-type {\n",
       "        vertical-align: middle;\n",
       "    }\n",
       "\n",
       "    .dataframe tbody tr th {\n",
       "        vertical-align: top;\n",
       "    }\n",
       "\n",
       "    .dataframe thead th {\n",
       "        text-align: right;\n",
       "    }\n",
       "</style>\n",
       "<table border=\"1\" class=\"dataframe\">\n",
       "  <thead>\n",
       "    <tr style=\"text-align: right;\">\n",
       "      <th></th>\n",
       "      <th>id</th>\n",
       "      <th>keyword</th>\n",
       "      <th>location</th>\n",
       "      <th>text</th>\n",
       "      <th>target</th>\n",
       "    </tr>\n",
       "  </thead>\n",
       "  <tbody>\n",
       "    <tr>\n",
       "      <th>1221</th>\n",
       "      <td>1760</td>\n",
       "      <td>buildings%20burning</td>\n",
       "      <td>dallas</td>\n",
       "      <td>like for the music video I want some real action shit like burning buildings and police chases not some weak ben winston shit</td>\n",
       "      <td>1</td>\n",
       "    </tr>\n",
       "    <tr>\n",
       "      <th>1349</th>\n",
       "      <td>1950</td>\n",
       "      <td>burning%20buildings</td>\n",
       "      <td>dallas</td>\n",
       "      <td>like for the music video I want some real action shit like burning buildings and police chases not some weak ben winston shit</td>\n",
       "      <td>0</td>\n",
       "    </tr>\n",
       "  </tbody>\n",
       "</table>\n",
       "</div>"
      ],
      "text/plain": [
       "        id              keyword location  \\\n",
       "1221  1760  buildings%20burning   dallas   \n",
       "1349  1950  burning%20buildings   dallas   \n",
       "\n",
       "                                                                                                                               text  \\\n",
       "1221  like for the music video I want some real action shit like burning buildings and police chases not some weak ben winston shit   \n",
       "1349  like for the music video I want some real action shit like burning buildings and police chases not some weak ben winston shit   \n",
       "\n",
       "      target  \n",
       "1221       1  \n",
       "1349       0  "
      ]
     },
     "execution_count": 16,
     "metadata": {},
     "output_type": "execute_result"
    }
   ],
   "source": [
    "df[df['text'] == \"like for the music video I want some real action shit like burning buildings and police chases not some weak ben winston shit\"]"
   ]
  },
  {
   "cell_type": "markdown",
   "metadata": {},
   "source": [
    "It seems that some of these tweets were labeled sloppily or are difficult to interpret. In any case, having identical tweets labeled differently will cause unwanted noise in the model. Therefore, I'll drop all duplicated tweets, which account for less than 2% of the dataset."
   ]
  },
  {
   "cell_type": "code",
   "execution_count": 17,
   "metadata": {},
   "outputs": [
    {
     "data": {
      "text/plain": [
       "0.0144489688690398"
      ]
     },
     "execution_count": 17,
     "metadata": {},
     "output_type": "execute_result"
    }
   ],
   "source": [
    "# Proportion of duplicate tweets\n",
    "\n",
    "df['text'].duplicated().sum() / len(df)"
   ]
  },
  {
   "cell_type": "code",
   "execution_count": 18,
   "metadata": {},
   "outputs": [],
   "source": [
    "df = df.drop_duplicates('text', keep=False)"
   ]
  },
  {
   "cell_type": "markdown",
   "metadata": {},
   "source": [
    "#### Separating text from target"
   ]
  },
  {
   "cell_type": "code",
   "execution_count": 19,
   "metadata": {},
   "outputs": [],
   "source": [
    "tweets = df[['text']]\n",
    "target = df['target']"
   ]
  },
  {
   "cell_type": "code",
   "execution_count": 20,
   "metadata": {},
   "outputs": [
    {
     "name": "stdout",
     "output_type": "stream",
     "text": [
      "Distribution of Target\n",
      "\n",
      "0    4284\n",
      "1    3150\n",
      "Name: target, dtype: int64\n",
      "\n",
      "Normalized:\n",
      "0    0.576271\n",
      "1    0.423729\n",
      "Name: target, dtype: float64\n"
     ]
    }
   ],
   "source": [
    "print('Distribution of Target')\n",
    "print()\n",
    "print(target.value_counts())\n",
    "print()\n",
    "print('Normalized:')\n",
    "print(target.value_counts(normalize=True))"
   ]
  },
  {
   "cell_type": "markdown",
   "metadata": {},
   "source": [
    "About 42% of the tweets have been labeled as actual disaster tweets. This is not a major imbalance, and this I won't need to artificially rebalance the dataset."
   ]
  },
  {
   "cell_type": "markdown",
   "metadata": {},
   "source": [
    "### Train-Test Split"
   ]
  },
  {
   "cell_type": "code",
   "execution_count": 21,
   "metadata": {},
   "outputs": [],
   "source": [
    "# Splitting the full dataset into training and testing data\n",
    "\n",
    "X_train, X_test, y_train, y_test = train_test_split(\n",
    "    tweets, target, test_size=.25, random_state=seed\n",
    ")\n",
    "\n",
    "# Splitting the training set into training and validation data\n",
    "\n",
    "X_train, X_val, y_train, y_val = train_test_split(\n",
    "    X_train, y_train, test_size=.25, random_state=seed\n",
    ")"
   ]
  },
  {
   "cell_type": "code",
   "execution_count": 22,
   "metadata": {},
   "outputs": [],
   "source": [
    "# Cleaning and tokenizing the tweet text"
   ]
  },
  {
   "cell_type": "code",
   "execution_count": 23,
   "metadata": {},
   "outputs": [],
   "source": [
    "# Saving a copy of untouched tweets\n",
    "X_train_tweets_unprocessed = X_train.copy()['text'] \n",
    "\n",
    "X_test_tweets_unprocessed = X_test.copy()['text'] \n",
    "\n",
    "X_val_tweets_unprocessed = X_val.copy()['text'] "
   ]
  },
  {
   "cell_type": "code",
   "execution_count": 24,
   "metadata": {},
   "outputs": [
    {
     "name": "stderr",
     "output_type": "stream",
     "text": [
      "<ipython-input-24-f04f0ed93228>:5: SettingWithCopyWarning: \n",
      "A value is trying to be set on a copy of a slice from a DataFrame.\n",
      "Try using .loc[row_indexer,col_indexer] = value instead\n",
      "\n",
      "See the caveats in the documentation: https://pandas.pydata.org/pandas-docs/stable/user_guide/indexing.html#returning-a-view-versus-a-copy\n",
      "  X_test['text'] = X_test['text'].apply(lambda x: x.lower())\n"
     ]
    }
   ],
   "source": [
    "# Make everything lowercase\n",
    "\n",
    "X_train['text'] = X_train['text'].apply(lambda x: x.lower())\n",
    "\n",
    "X_test['text'] = X_test['text'].apply(lambda x: x.lower())\n",
    "\n",
    "X_val['text'] = X_val['text'].apply(lambda x: x.lower())"
   ]
  },
  {
   "cell_type": "code",
   "execution_count": 25,
   "metadata": {},
   "outputs": [
    {
     "data": {
      "text/html": [
       "<div>\n",
       "<style scoped>\n",
       "    .dataframe tbody tr th:only-of-type {\n",
       "        vertical-align: middle;\n",
       "    }\n",
       "\n",
       "    .dataframe tbody tr th {\n",
       "        vertical-align: top;\n",
       "    }\n",
       "\n",
       "    .dataframe thead th {\n",
       "        text-align: right;\n",
       "    }\n",
       "</style>\n",
       "<table border=\"1\" class=\"dataframe\">\n",
       "  <thead>\n",
       "    <tr style=\"text-align: right;\">\n",
       "      <th></th>\n",
       "      <th>text</th>\n",
       "    </tr>\n",
       "  </thead>\n",
       "  <tbody>\n",
       "    <tr>\n",
       "      <th>7250</th>\n",
       "      <td>death certificates safes weapons and teslas: def con 23 #security http://t.co/kmdqm3nlns</td>\n",
       "    </tr>\n",
       "    <tr>\n",
       "      <th>6439</th>\n",
       "      <td>infographic: at least 20 turkish security officials killed in pkk and isis terror attacks since suruc suicide bombing http://t.co/uvaojzcycz</td>\n",
       "    </tr>\n",
       "    <tr>\n",
       "      <th>4885</th>\n",
       "      <td>3 years after the sikh temple massacre hate-violence prevention is key | @dviyer @colorlines http://t.co/nlbltynv36 http://t.co/bjrrqhhohl</td>\n",
       "    </tr>\n",
       "    <tr>\n",
       "      <th>4115</th>\n",
       "      <td>gotta love #summer in #calgary. #yyc #hailstorm #crazyweather http://t.co/xqbwnlbbiu</td>\n",
       "    </tr>\n",
       "    <tr>\n",
       "      <th>575</th>\n",
       "      <td>usa today: .@fedex will no longer to transport bioterror pathogens after ... - http://t.co/iadlslqdpd #newsintweets http://t.co/o8y1sul4ow</td>\n",
       "    </tr>\n",
       "    <tr>\n",
       "      <th>2741</th>\n",
       "      <td>@keegan172 i'm devastated</td>\n",
       "    </tr>\n",
       "    <tr>\n",
       "      <th>3337</th>\n",
       "      <td>5 dead 3 missing 103 families evacuated due to floods in bukidnon: ... http://t.co/z0hsckvysn</td>\n",
       "    </tr>\n",
       "    <tr>\n",
       "      <th>5892</th>\n",
       "      <td>who need friends when there's booze and darude - sandstorm :d</td>\n",
       "    </tr>\n",
       "    <tr>\n",
       "      <th>4368</th>\n",
       "      <td>complete solution to get rid of http://t.co/9cntp3nq6o ûò [browser hijacker removal guide]! - http://t.co/qdf6asaelm</td>\n",
       "    </tr>\n",
       "    <tr>\n",
       "      <th>5439</th>\n",
       "      <td>now trending in nigeria: police charge traditional ruler others with informantûªs  murder http://t.co/93infxzhx0</td>\n",
       "    </tr>\n",
       "  </tbody>\n",
       "</table>\n",
       "</div>"
      ],
      "text/plain": [
       "                                                                                                                                              text\n",
       "7250                                                      death certificates safes weapons and teslas: def con 23 #security http://t.co/kmdqm3nlns\n",
       "6439  infographic: at least 20 turkish security officials killed in pkk and isis terror attacks since suruc suicide bombing http://t.co/uvaojzcycz\n",
       "4885    3 years after the sikh temple massacre hate-violence prevention is key | @dviyer @colorlines http://t.co/nlbltynv36 http://t.co/bjrrqhhohl\n",
       "4115                                                          gotta love #summer in #calgary. #yyc #hailstorm #crazyweather http://t.co/xqbwnlbbiu\n",
       "575     usa today: .@fedex will no longer to transport bioterror pathogens after ... - http://t.co/iadlslqdpd #newsintweets http://t.co/o8y1sul4ow\n",
       "2741                                                                                                                     @keegan172 i'm devastated\n",
       "3337                                                 5 dead 3 missing 103 families evacuated due to floods in bukidnon: ... http://t.co/z0hsckvysn\n",
       "5892                                                                                 who need friends when there's booze and darude - sandstorm :d\n",
       "4368                         complete solution to get rid of http://t.co/9cntp3nq6o ûò [browser hijacker removal guide]! - http://t.co/qdf6asaelm\n",
       "5439                             now trending in nigeria: police charge traditional ruler others with informantûªs  murder http://t.co/93infxzhx0"
      ]
     },
     "execution_count": 25,
     "metadata": {},
     "output_type": "execute_result"
    }
   ],
   "source": [
    "X_train.head(10)"
   ]
  },
  {
   "cell_type": "markdown",
   "metadata": {},
   "source": [
    "### Dealing with URLs\n",
    "\n",
    "Many tweets contain URLs, which, from an NLP standpoint are essentially random strings and thus won't be useful as vectorized tokens. But before I remove them, I will turn the presence of a URL into a binary feature."
   ]
  },
  {
   "cell_type": "code",
   "execution_count": 26,
   "metadata": {},
   "outputs": [],
   "source": [
    "def binary_url(text):\n",
    "    \"\"\"\n",
    "    Returns 1 if a string contains a URL, else returns 0.\n",
    "    \"\"\"\n",
    "    search = re.search(pattern=r'http\\S+', string=text)\n",
    "    return int(bool(search))\n",
    "\n",
    "# Making a series indicating whether the tweet has a URL. I will use this later when extracting more meta-features.\n",
    "\n",
    "has_url_Series_train = X_train['text'].apply(binary_url).rename('has_url')\n",
    "has_url_Series_test = X_test['text'].apply(binary_url).rename('has_url')\n",
    "has_url_Series_val = X_val['text'].apply(binary_url).rename('has_url')"
   ]
  },
  {
   "cell_type": "code",
   "execution_count": 27,
   "metadata": {},
   "outputs": [
    {
     "name": "stderr",
     "output_type": "stream",
     "text": [
      "<ipython-input-27-1182888dafc8>:8: SettingWithCopyWarning: \n",
      "A value is trying to be set on a copy of a slice from a DataFrame.\n",
      "Try using .loc[row_indexer,col_indexer] = value instead\n",
      "\n",
      "See the caveats in the documentation: https://pandas.pydata.org/pandas-docs/stable/user_guide/indexing.html#returning-a-view-versus-a-copy\n",
      "  X_test['text'] = X_test['text'].apply(\n"
     ]
    }
   ],
   "source": [
    "# Removing URLs from all tweets\n",
    "\n",
    "X_train['text'] = X_train['text'].apply(\n",
    "    lambda x: re.sub(\n",
    "        pattern=r'http\\S+', repl='', string=x)\n",
    "        )\n",
    "\n",
    "X_test['text'] = X_test['text'].apply(\n",
    "    lambda x: re.sub(\n",
    "        pattern=r'http\\S+', repl='', string=x)\n",
    "        )\n",
    "\n",
    "X_val['text'] = X_val['text'].apply(\n",
    "    lambda x: re.sub(\n",
    "        pattern=r'http\\S+', repl='', string=x)\n",
    "        )"
   ]
  },
  {
   "cell_type": "markdown",
   "metadata": {},
   "source": [
    "### Tokenizing tweets\n",
    "\n",
    "#### I plan to make multiple tokenized versions of each tweet.\n",
    "* Basic version: Any word with at least two letters. Strips the symbols for hashtags (#) and mentions(@)\n",
    "* Basic version, excluding stop words\n",
    "* Lemmatized version of basic version\n",
    "* Lemmatized version of basic version, exluding stop words."
   ]
  },
  {
   "cell_type": "code",
   "execution_count": 28,
   "metadata": {},
   "outputs": [
    {
     "data": {
      "text/plain": [
       "'ted cruz fires back at jeb &amp; bush: \\x89ûïwe lose because of republicans like jeb &amp; mitt.\\x89û\\x9d [video] -  '"
      ]
     },
     "execution_count": 28,
     "metadata": {},
     "output_type": "execute_result"
    }
   ],
   "source": [
    "example_tweet = X_train['text'].loc[1370]\n",
    "example_tweet"
   ]
  },
  {
   "cell_type": "code",
   "execution_count": 29,
   "metadata": {},
   "outputs": [],
   "source": [
    "token_pattern = r\"[a-zA-Z]+'?[a-zA-Z]+\"\n",
    "# Pattern: Any word with at least two characters, including up to one apostrophe\n",
    "\n",
    "tokenizer = RegexpTokenizer(token_pattern)"
   ]
  },
  {
   "cell_type": "markdown",
   "metadata": {},
   "source": [
    "Let's see how well the tokenizer does with the pattern I used above."
   ]
  },
  {
   "cell_type": "code",
   "execution_count": 30,
   "metadata": {},
   "outputs": [
    {
     "name": "stdout",
     "output_type": "stream",
     "text": [
      "['ted', 'cruz', 'fires', 'back', 'at', 'jeb', 'amp', 'bush', 'we', 'lose', 'because', 'of', 'republicans', 'like', 'jeb', 'amp', 'mitt', 'video']\n"
     ]
    }
   ],
   "source": [
    "print(tokenizer.tokenize(example_tweet))"
   ]
  },
  {
   "cell_type": "markdown",
   "metadata": {},
   "source": [
    "That seems to work. However, 'amp' is an artifact of \"&amp;\", which is the HTML entity for an ampersand (\"&\").\n",
    "\n",
    "I will replace any instance of \"&amp;\" with the word \"and\" in the original text."
   ]
  },
  {
   "cell_type": "code",
   "execution_count": 31,
   "metadata": {},
   "outputs": [
    {
     "name": "stderr",
     "output_type": "stream",
     "text": [
      "<ipython-input-31-ca8796cea136>:3: SettingWithCopyWarning: \n",
      "A value is trying to be set on a copy of a slice from a DataFrame.\n",
      "Try using .loc[row_indexer,col_indexer] = value instead\n",
      "\n",
      "See the caveats in the documentation: https://pandas.pydata.org/pandas-docs/stable/user_guide/indexing.html#returning-a-view-versus-a-copy\n",
      "  X_test['text'] = X_test['text'].apply(lambda x: re.sub(\"&amp;\", \"and\", x))\n"
     ]
    }
   ],
   "source": [
    "X_train['text'] = X_train['text'].apply(lambda x: re.sub(\"&amp;\", \"and\", x))\n",
    "\n",
    "X_test['text'] = X_test['text'].apply(lambda x: re.sub(\"&amp;\", \"and\", x))\n",
    "\n",
    "X_val['text'] = X_val['text'].apply(lambda x: re.sub(\"&amp;\", \"and\", x))"
   ]
  },
  {
   "cell_type": "code",
   "execution_count": 32,
   "metadata": {},
   "outputs": [
    {
     "name": "stderr",
     "output_type": "stream",
     "text": [
      "<ipython-input-32-56f77634f04d>:3: SettingWithCopyWarning: \n",
      "A value is trying to be set on a copy of a slice from a DataFrame.\n",
      "Try using .loc[row_indexer,col_indexer] = value instead\n",
      "\n",
      "See the caveats in the documentation: https://pandas.pydata.org/pandas-docs/stable/user_guide/indexing.html#returning-a-view-versus-a-copy\n",
      "  X_test['tokens'] = X_test['text'].apply(tokenizer.tokenize)\n"
     ]
    }
   ],
   "source": [
    "X_train['tokens'] = X_train['text'].apply(tokenizer.tokenize)\n",
    "\n",
    "X_test['tokens'] = X_test['text'].apply(tokenizer.tokenize)\n",
    "\n",
    "X_val['tokens'] = X_val['text'].apply(tokenizer.tokenize)"
   ]
  },
  {
   "cell_type": "code",
   "execution_count": 33,
   "metadata": {},
   "outputs": [
    {
     "data": {
      "text/plain": [
       "[('the', 1799),\n",
       " ('in', 1105),\n",
       " ('to', 1101),\n",
       " ('of', 999),\n",
       " ('and', 958),\n",
       " ('is', 532),\n",
       " ('for', 489),\n",
       " ('on', 475),\n",
       " ('you', 416),\n",
       " ('my', 388),\n",
       " ('that', 325),\n",
       " ('it', 309),\n",
       " ('at', 295),\n",
       " ('by', 282),\n",
       " ('with', 276),\n",
       " ('this', 269),\n",
       " ('from', 238),\n",
       " ('be', 230),\n",
       " ('was', 213),\n",
       " ('have', 208)]"
      ]
     },
     "execution_count": 33,
     "metadata": {},
     "output_type": "execute_result"
    }
   ],
   "source": [
    "# Check most common tokens\n",
    "\n",
    "FreqDist(X_train['tokens'].explode()).most_common(20)"
   ]
  },
  {
   "cell_type": "markdown",
   "metadata": {},
   "source": [
    "#### All tweets have been tokenized. Now I will make a version without stop words.\n",
    "\n",
    "To make a comprehensive list of stop words, I will combine the default lists from the NLTK and SpaCy libraries."
   ]
  },
  {
   "cell_type": "code",
   "execution_count": 34,
   "metadata": {},
   "outputs": [],
   "source": [
    "sw_spacy = list(nlp.Defaults.stop_words)\n",
    "sw_nltk = stopwords.words('english')\n",
    "stopword_list = list(set(sw_spacy + sw_nltk))"
   ]
  },
  {
   "cell_type": "code",
   "execution_count": 35,
   "metadata": {},
   "outputs": [
    {
     "name": "stderr",
     "output_type": "stream",
     "text": [
      "<ipython-input-35-df28a31bb606>:6: SettingWithCopyWarning: \n",
      "A value is trying to be set on a copy of a slice from a DataFrame.\n",
      "Try using .loc[row_indexer,col_indexer] = value instead\n",
      "\n",
      "See the caveats in the documentation: https://pandas.pydata.org/pandas-docs/stable/user_guide/indexing.html#returning-a-view-versus-a-copy\n",
      "  X_test['tokens_no_sw'] = \\\n"
     ]
    }
   ],
   "source": [
    "X_train['tokens_no_sw'] = \\\n",
    "    X_train['tokens'].apply(\n",
    "        lambda x: [w for w in x if not w in stopword_list]\n",
    "    )\n",
    "\n",
    "X_test['tokens_no_sw'] = \\\n",
    "    X_test['tokens'].apply(\n",
    "        lambda x: [w for w in x if not w in stopword_list]\n",
    "    )\n",
    "\n",
    "X_val['tokens_no_sw'] = \\\n",
    "    X_val['tokens'].apply(\n",
    "        lambda x: [w for w in x if not w in stopword_list]\n",
    "    )"
   ]
  },
  {
   "cell_type": "code",
   "execution_count": 36,
   "metadata": {},
   "outputs": [
    {
     "data": {
      "text/plain": [
       "[('like', 196),\n",
       " ('fire', 144),\n",
       " ('news', 131),\n",
       " (\"i'm\", 130),\n",
       " ('new', 119),\n",
       " ('people', 111),\n",
       " ('video', 95),\n",
       " ('emergency', 90),\n",
       " ('day', 85),\n",
       " ('police', 79),\n",
       " ('time', 78),\n",
       " ('man', 75),\n",
       " ('disaster', 74),\n",
       " ('rt', 74),\n",
       " ('body', 68),\n",
       " ('suicide', 65),\n",
       " ('love', 65),\n",
       " ('know', 65),\n",
       " ('youtube', 65),\n",
       " ('going', 64)]"
      ]
     },
     "execution_count": 36,
     "metadata": {},
     "output_type": "execute_result"
    }
   ],
   "source": [
    "# Check most common tokens (without stop words)\n",
    "\n",
    "FreqDist(X_train['tokens_no_sw'].explode()).most_common(20)"
   ]
  },
  {
   "cell_type": "markdown",
   "metadata": {},
   "source": [
    "\"i'm\" should also be considered a stop word"
   ]
  },
  {
   "cell_type": "code",
   "execution_count": 37,
   "metadata": {},
   "outputs": [],
   "source": [
    "stopword_list.extend([\"i'm\"])"
   ]
  },
  {
   "cell_type": "code",
   "execution_count": 38,
   "metadata": {},
   "outputs": [
    {
     "name": "stderr",
     "output_type": "stream",
     "text": [
      "<ipython-input-38-df28a31bb606>:6: SettingWithCopyWarning: \n",
      "A value is trying to be set on a copy of a slice from a DataFrame.\n",
      "Try using .loc[row_indexer,col_indexer] = value instead\n",
      "\n",
      "See the caveats in the documentation: https://pandas.pydata.org/pandas-docs/stable/user_guide/indexing.html#returning-a-view-versus-a-copy\n",
      "  X_test['tokens_no_sw'] = \\\n"
     ]
    }
   ],
   "source": [
    "X_train['tokens_no_sw'] = \\\n",
    "    X_train['tokens'].apply(\n",
    "        lambda x: [w for w in x if not w in stopword_list]\n",
    "    )\n",
    "\n",
    "X_test['tokens_no_sw'] = \\\n",
    "    X_test['tokens'].apply(\n",
    "        lambda x: [w for w in x if not w in stopword_list]\n",
    "    )\n",
    "\n",
    "X_val['tokens_no_sw'] = \\\n",
    "    X_val['tokens'].apply(\n",
    "        lambda x: [w for w in x if not w in stopword_list]\n",
    "    )"
   ]
  },
  {
   "cell_type": "code",
   "execution_count": 39,
   "metadata": {},
   "outputs": [
    {
     "data": {
      "text/plain": [
       "[('like', 196),\n",
       " ('fire', 144),\n",
       " ('news', 131),\n",
       " ('new', 119),\n",
       " ('people', 111),\n",
       " ('video', 95),\n",
       " ('emergency', 90),\n",
       " ('day', 85),\n",
       " ('police', 79),\n",
       " ('time', 78),\n",
       " ('man', 75),\n",
       " ('disaster', 74),\n",
       " ('rt', 74),\n",
       " ('body', 68),\n",
       " ('suicide', 65),\n",
       " ('love', 65),\n",
       " ('know', 65),\n",
       " ('youtube', 65),\n",
       " ('going', 64),\n",
       " ('killed', 62)]"
      ]
     },
     "execution_count": 39,
     "metadata": {},
     "output_type": "execute_result"
    }
   ],
   "source": [
    "# Check most common tokens (without stop words)\n",
    "\n",
    "top_20_no_sw = FreqDist(X_train['tokens_no_sw'].explode()).most_common(20)\n",
    "top_20_no_sw"
   ]
  },
  {
   "cell_type": "markdown",
   "metadata": {},
   "source": [
    "Previewing the restulting features:"
   ]
  },
  {
   "cell_type": "code",
   "execution_count": 40,
   "metadata": {},
   "outputs": [
    {
     "data": {
      "text/html": [
       "<div>\n",
       "<style scoped>\n",
       "    .dataframe tbody tr th:only-of-type {\n",
       "        vertical-align: middle;\n",
       "    }\n",
       "\n",
       "    .dataframe tbody tr th {\n",
       "        vertical-align: top;\n",
       "    }\n",
       "\n",
       "    .dataframe thead th {\n",
       "        text-align: right;\n",
       "    }\n",
       "</style>\n",
       "<table border=\"1\" class=\"dataframe\">\n",
       "  <thead>\n",
       "    <tr style=\"text-align: right;\">\n",
       "      <th></th>\n",
       "      <th>text</th>\n",
       "      <th>tokens</th>\n",
       "      <th>tokens_no_sw</th>\n",
       "    </tr>\n",
       "  </thead>\n",
       "  <tbody>\n",
       "    <tr>\n",
       "      <th>7250</th>\n",
       "      <td>death certificates safes weapons and teslas: def con 23 #security</td>\n",
       "      <td>[death, certificates, safes, weapons, and, teslas, def, con, security]</td>\n",
       "      <td>[death, certificates, safes, weapons, teslas, def, con, security]</td>\n",
       "    </tr>\n",
       "    <tr>\n",
       "      <th>6439</th>\n",
       "      <td>infographic: at least 20 turkish security officials killed in pkk and isis terror attacks since suruc suicide bombing</td>\n",
       "      <td>[infographic, at, least, turkish, security, officials, killed, in, pkk, and, isis, terror, attacks, since, suruc, suicide, bombing]</td>\n",
       "      <td>[infographic, turkish, security, officials, killed, pkk, isis, terror, attacks, suruc, suicide, bombing]</td>\n",
       "    </tr>\n",
       "    <tr>\n",
       "      <th>4885</th>\n",
       "      <td>3 years after the sikh temple massacre hate-violence prevention is key | @dviyer @colorlines</td>\n",
       "      <td>[years, after, the, sikh, temple, massacre, hate, violence, prevention, is, key, dviyer, colorlines]</td>\n",
       "      <td>[years, sikh, temple, massacre, hate, violence, prevention, key, dviyer, colorlines]</td>\n",
       "    </tr>\n",
       "    <tr>\n",
       "      <th>4115</th>\n",
       "      <td>gotta love #summer in #calgary. #yyc #hailstorm #crazyweather</td>\n",
       "      <td>[gotta, love, summer, in, calgary, yyc, hailstorm, crazyweather]</td>\n",
       "      <td>[gotta, love, summer, calgary, yyc, hailstorm, crazyweather]</td>\n",
       "    </tr>\n",
       "    <tr>\n",
       "      <th>575</th>\n",
       "      <td>usa today: .@fedex will no longer to transport bioterror pathogens after ... -  #newsintweets</td>\n",
       "      <td>[usa, today, fedex, will, no, longer, to, transport, bioterror, pathogens, after, newsintweets]</td>\n",
       "      <td>[usa, today, fedex, longer, transport, bioterror, pathogens, newsintweets]</td>\n",
       "    </tr>\n",
       "  </tbody>\n",
       "</table>\n",
       "</div>"
      ],
      "text/plain": [
       "                                                                                                                        text  \\\n",
       "7250                                                      death certificates safes weapons and teslas: def con 23 #security    \n",
       "6439  infographic: at least 20 turkish security officials killed in pkk and isis terror attacks since suruc suicide bombing    \n",
       "4885                          3 years after the sikh temple massacre hate-violence prevention is key | @dviyer @colorlines     \n",
       "4115                                                          gotta love #summer in #calgary. #yyc #hailstorm #crazyweather    \n",
       "575                           usa today: .@fedex will no longer to transport bioterror pathogens after ... -  #newsintweets    \n",
       "\n",
       "                                                                                                                                   tokens  \\\n",
       "7250                                                               [death, certificates, safes, weapons, and, teslas, def, con, security]   \n",
       "6439  [infographic, at, least, turkish, security, officials, killed, in, pkk, and, isis, terror, attacks, since, suruc, suicide, bombing]   \n",
       "4885                                 [years, after, the, sikh, temple, massacre, hate, violence, prevention, is, key, dviyer, colorlines]   \n",
       "4115                                                                     [gotta, love, summer, in, calgary, yyc, hailstorm, crazyweather]   \n",
       "575                                       [usa, today, fedex, will, no, longer, to, transport, bioterror, pathogens, after, newsintweets]   \n",
       "\n",
       "                                                                                                  tokens_no_sw  \n",
       "7250                                         [death, certificates, safes, weapons, teslas, def, con, security]  \n",
       "6439  [infographic, turkish, security, officials, killed, pkk, isis, terror, attacks, suruc, suicide, bombing]  \n",
       "4885                      [years, sikh, temple, massacre, hate, violence, prevention, key, dviyer, colorlines]  \n",
       "4115                                              [gotta, love, summer, calgary, yyc, hailstorm, crazyweather]  \n",
       "575                                 [usa, today, fedex, longer, transport, bioterror, pathogens, newsintweets]  "
      ]
     },
     "execution_count": 40,
     "metadata": {},
     "output_type": "execute_result"
    }
   ],
   "source": [
    "X_train.head()"
   ]
  },
  {
   "cell_type": "markdown",
   "metadata": {},
   "source": [
    "### Lemmatizing tweets\n",
    "\n",
    "Now I want to make a version of these tokenized tweets where each word is lemmatized. **Lemmatization** is _________.\n",
    "\n",
    "I will the tokenizer I made above, then the SpaCy library's lemmatizer to do this. Essentially I am making my own tokenizing function, where the output is lemmatized tokens instead of just plain tokens."
   ]
  },
  {
   "cell_type": "code",
   "execution_count": 41,
   "metadata": {},
   "outputs": [],
   "source": [
    "def spacy_lemmatize(text):\n",
    "    \"\"\"\n",
    "    Uses NLTK and SpaCy to tokenize a string and return the lemma of each token.\n",
    "    \"\"\"\n",
    "    tokens = tokenizer.tokenize(text)\n",
    "    doc = nlp(' '.join(tokens))\n",
    "    return [t.lemma_.lower() for t in doc]"
   ]
  },
  {
   "cell_type": "code",
   "execution_count": 42,
   "metadata": {},
   "outputs": [
    {
     "name": "stderr",
     "output_type": "stream",
     "text": [
      "<ipython-input-42-cbdee83a74fa>:5: SettingWithCopyWarning: \n",
      "A value is trying to be set on a copy of a slice from a DataFrame.\n",
      "Try using .loc[row_indexer,col_indexer] = value instead\n",
      "\n",
      "See the caveats in the documentation: https://pandas.pydata.org/pandas-docs/stable/user_guide/indexing.html#returning-a-view-versus-a-copy\n",
      "  X_test['lemmas'] = X_test['text'].apply(spacy_lemmatize)\n"
     ]
    }
   ],
   "source": [
    "# Lemmatized tokens, including stop words\n",
    "\n",
    "X_train['lemmas'] = X_train['text'].apply(spacy_lemmatize)\n",
    "\n",
    "X_test['lemmas'] = X_test['text'].apply(spacy_lemmatize)\n",
    "\n",
    "X_val['lemmas'] = X_val['text'].apply(spacy_lemmatize)"
   ]
  },
  {
   "cell_type": "code",
   "execution_count": 43,
   "metadata": {},
   "outputs": [
    {
     "data": {
      "text/plain": [
       "[('be', 1904),\n",
       " ('the', 1799),\n",
       " ('to', 1127),\n",
       " ('in', 1105),\n",
       " ('of', 999),\n",
       " ('and', 959),\n",
       " ('for', 489),\n",
       " ('you', 477),\n",
       " ('on', 475),\n",
       " ('not', 451),\n",
       " ('have', 435),\n",
       " ('it', 427),\n",
       " ('i', 426),\n",
       " ('my', 388),\n",
       " ('that', 359),\n",
       " ('do', 349),\n",
       " ('at', 295),\n",
       " ('by', 282),\n",
       " ('with', 276),\n",
       " ('this', 269)]"
      ]
     },
     "execution_count": 43,
     "metadata": {},
     "output_type": "execute_result"
    }
   ],
   "source": [
    "# Check most common lemmas\n",
    "\n",
    "FreqDist(X_train['lemmas'].explode()).most_common(20)"
   ]
  },
  {
   "cell_type": "markdown",
   "metadata": {},
   "source": [
    "In order to make the lemmatized tokens without stop words, I will also need to lemmatize the stop words.\n",
    "\n",
    "This has to be done to the stop words while they are still within the string because  SpaCy uses grammatical context to lemmatize."
   ]
  },
  {
   "cell_type": "code",
   "execution_count": 44,
   "metadata": {},
   "outputs": [],
   "source": [
    "# Lemmatized version of stop words based on training set\n",
    "\n",
    "stopword_list_lem = []\n",
    "\n",
    "sw_lem_Series = \\\n",
    "    X_train['text'].apply(\n",
    "    lambda x: [t.lemma_.lower() for t in nlp(x) if t.text in stopword_list]\n",
    "    )\n",
    "\n",
    "for row in sw_lem_Series:\n",
    "    stopword_list_lem.extend(row)\n",
    "\n",
    "stopword_list_lem = list(set(stopword_list_lem))"
   ]
  },
  {
   "cell_type": "code",
   "execution_count": 45,
   "metadata": {},
   "outputs": [
    {
     "name": "stderr",
     "output_type": "stream",
     "text": [
      "<ipython-input-45-5b185a7430a4>:7: SettingWithCopyWarning: \n",
      "A value is trying to be set on a copy of a slice from a DataFrame.\n",
      "Try using .loc[row_indexer,col_indexer] = value instead\n",
      "\n",
      "See the caveats in the documentation: https://pandas.pydata.org/pandas-docs/stable/user_guide/indexing.html#returning-a-view-versus-a-copy\n",
      "  X_test['lemmas_no_sw'] = X_test['lemmas'].apply(\n"
     ]
    }
   ],
   "source": [
    "# Lemmatized tokens, excluding stop words\n",
    "\n",
    "X_train['lemmas_no_sw'] = X_train['lemmas'].apply(\n",
    "    lambda x: [l for l in x if l not in stopword_list_lem]\n",
    "    )\n",
    "\n",
    "X_test['lemmas_no_sw'] = X_test['lemmas'].apply(\n",
    "    lambda x: [l for l in x if l not in stopword_list_lem]\n",
    "    )\n",
    "\n",
    "X_val['lemmas_no_sw'] = X_val['lemmas'].apply(\n",
    "    lambda x: [l for l in x if l not in stopword_list_lem]\n",
    "    )"
   ]
  },
  {
   "cell_type": "code",
   "execution_count": 46,
   "metadata": {},
   "outputs": [
    {
     "data": {
      "text/plain": [
       "[('like', 231),\n",
       " ('fire', 193),\n",
       " ('news', 131),\n",
       " ('new', 125),\n",
       " ('people', 112),\n",
       " ('kill', 104),\n",
       " ('day', 101),\n",
       " ('video', 99),\n",
       " ('man', 95),\n",
       " ('time', 95),\n",
       " ('attack', 91),\n",
       " ('emergency', 91),\n",
       " ('come', 91),\n",
       " ('year', 89),\n",
       " ('bomb', 88),\n",
       " ('body', 85),\n",
       " ('burn', 83),\n",
       " ('crash', 81),\n",
       " ('love', 79),\n",
       " ('police', 79)]"
      ]
     },
     "execution_count": 46,
     "metadata": {},
     "output_type": "execute_result"
    }
   ],
   "source": [
    "# Check most common lemmas (without stop words)\n",
    "\n",
    "FreqDist(X_train['lemmas_no_sw'].explode()).most_common(20)"
   ]
  },
  {
   "cell_type": "code",
   "execution_count": 47,
   "metadata": {},
   "outputs": [],
   "source": [
    "# VISUALIZE the differences. Count plots or bar charts. Differences between 0 and 1.\n",
    "\n",
    "# Do anything about the word \"like\"???\n",
    "\n",
    "#\n",
    "# \n",
    "# \n",
    "# \n",
    "# \n",
    "#"
   ]
  },
  {
   "cell_type": "markdown",
   "metadata": {},
   "source": [
    "### More linguistic feature engineering\n",
    "\n",
    "I will use the SpaCy library to extract more linguistic features from the tweets.\n",
    "\n",
    "### Vectorized part-of-speech (POS) tags\n",
    "\n",
    "The SpaCy library is pre-trained to parse through sentences and identify each word's grammatical part-of-speech.\n",
    "\n",
    "Here are some examples of what the tool can identify:"
   ]
  },
  {
   "cell_type": "code",
   "execution_count": 48,
   "metadata": {},
   "outputs": [],
   "source": [
    "# POS VISUALIZATIONS\n",
    "#\n",
    "# \n",
    "# \n",
    "# \n",
    "# \n",
    "# \n",
    "#"
   ]
  },
  {
   "cell_type": "markdown",
   "metadata": {},
   "source": [
    "I plan to use this tool in order to vectorize the parts-of-speech of each tweet.\n",
    "\n",
    "First, I'll convert each token into a string of its POS tag."
   ]
  },
  {
   "cell_type": "code",
   "execution_count": 49,
   "metadata": {},
   "outputs": [
    {
     "name": "stderr",
     "output_type": "stream",
     "text": [
      "<ipython-input-49-9850555ab4f2>:14: SettingWithCopyWarning: \n",
      "A value is trying to be set on a copy of a slice from a DataFrame.\n",
      "Try using .loc[row_indexer,col_indexer] = value instead\n",
      "\n",
      "See the caveats in the documentation: https://pandas.pydata.org/pandas-docs/stable/user_guide/indexing.html#returning-a-view-versus-a-copy\n",
      "  X_test['text_as_POS'] = X_test['text'].apply(spacy_pos)\n"
     ]
    }
   ],
   "source": [
    "# Spacy POS\n",
    "\n",
    "def spacy_pos(text):\n",
    "    \"\"\"\n",
    "    Takes in a string and returns a list of part-of-speech tokens.\n",
    "    \"\"\"\n",
    "    tokens = tokenizer.tokenize(text)\n",
    "    doc = nlp(' '.join(tokens))\n",
    "    pos_tokens = [t.pos_ for t in doc]\n",
    "    return pos_tokens\n",
    "\n",
    "X_train['text_as_POS'] = X_train['text'].apply(spacy_pos)\n",
    "\n",
    "X_test['text_as_POS'] = X_test['text'].apply(spacy_pos)\n",
    "\n",
    "X_val['text_as_POS'] = X_val['text'].apply(spacy_pos)"
   ]
  },
  {
   "cell_type": "code",
   "execution_count": 50,
   "metadata": {},
   "outputs": [
    {
     "data": {
      "text/html": [
       "<div>\n",
       "<style scoped>\n",
       "    .dataframe tbody tr th:only-of-type {\n",
       "        vertical-align: middle;\n",
       "    }\n",
       "\n",
       "    .dataframe tbody tr th {\n",
       "        vertical-align: top;\n",
       "    }\n",
       "\n",
       "    .dataframe thead th {\n",
       "        text-align: right;\n",
       "    }\n",
       "</style>\n",
       "<table border=\"1\" class=\"dataframe\">\n",
       "  <thead>\n",
       "    <tr style=\"text-align: right;\">\n",
       "      <th></th>\n",
       "      <th>text</th>\n",
       "      <th>tokens</th>\n",
       "      <th>tokens_no_sw</th>\n",
       "      <th>lemmas</th>\n",
       "      <th>lemmas_no_sw</th>\n",
       "      <th>text_as_POS</th>\n",
       "    </tr>\n",
       "  </thead>\n",
       "  <tbody>\n",
       "    <tr>\n",
       "      <th>7250</th>\n",
       "      <td>death certificates safes weapons and teslas: def con 23 #security</td>\n",
       "      <td>[death, certificates, safes, weapons, and, teslas, def, con, security]</td>\n",
       "      <td>[death, certificates, safes, weapons, teslas, def, con, security]</td>\n",
       "      <td>[death, certificate, safe, weapon, and, tesla, def, con, security]</td>\n",
       "      <td>[death, certificate, safe, weapon, tesla, def, con, security]</td>\n",
       "      <td>[NOUN, NOUN, VERB, NOUN, CCONJ, NOUN, VERB, NOUN, NOUN]</td>\n",
       "    </tr>\n",
       "    <tr>\n",
       "      <th>6439</th>\n",
       "      <td>infographic: at least 20 turkish security officials killed in pkk and isis terror attacks since suruc suicide bombing</td>\n",
       "      <td>[infographic, at, least, turkish, security, officials, killed, in, pkk, and, isis, terror, attacks, since, suruc, suicide, bombing]</td>\n",
       "      <td>[infographic, turkish, security, officials, killed, pkk, isis, terror, attacks, suruc, suicide, bombing]</td>\n",
       "      <td>[infographic, at, least, turkish, security, official, kill, in, pkk, and, isis, terror, attack, since, suruc, suicide, bombing]</td>\n",
       "      <td>[infographic, turkish, security, official, kill, pkk, isis, terror, attack, suruc, suicide, bombing]</td>\n",
       "      <td>[PROPN, ADP, ADJ, ADJ, NOUN, NOUN, VERB, ADP, PROPN, CCONJ, NOUN, NOUN, NOUN, SCONJ, NOUN, NOUN, NOUN]</td>\n",
       "    </tr>\n",
       "    <tr>\n",
       "      <th>4885</th>\n",
       "      <td>3 years after the sikh temple massacre hate-violence prevention is key | @dviyer @colorlines</td>\n",
       "      <td>[years, after, the, sikh, temple, massacre, hate, violence, prevention, is, key, dviyer, colorlines]</td>\n",
       "      <td>[years, sikh, temple, massacre, hate, violence, prevention, key, dviyer, colorlines]</td>\n",
       "      <td>[year, after, the, sikh, temple, massacre, hate, violence, prevention, be, key, dviyer, colorline]</td>\n",
       "      <td>[year, sikh, temple, massacre, hate, violence, prevention, key, dviyer, colorline]</td>\n",
       "      <td>[NOUN, SCONJ, DET, PROPN, PROPN, PROPN, PROPN, NOUN, PROPN, AUX, ADJ, NOUN, NOUN]</td>\n",
       "    </tr>\n",
       "    <tr>\n",
       "      <th>4115</th>\n",
       "      <td>gotta love #summer in #calgary. #yyc #hailstorm #crazyweather</td>\n",
       "      <td>[gotta, love, summer, in, calgary, yyc, hailstorm, crazyweather]</td>\n",
       "      <td>[gotta, love, summer, calgary, yyc, hailstorm, crazyweather]</td>\n",
       "      <td>[got, to, love, summer, in, calgary, yyc, hailstorm, crazyweather]</td>\n",
       "      <td>[got, love, summer, calgary, yyc, hailstorm, crazyweather]</td>\n",
       "      <td>[VERB, PART, VERB, NOUN, ADP, ADJ, NOUN, NOUN, NOUN]</td>\n",
       "    </tr>\n",
       "    <tr>\n",
       "      <th>575</th>\n",
       "      <td>usa today: .@fedex will no longer to transport bioterror pathogens after ... -  #newsintweets</td>\n",
       "      <td>[usa, today, fedex, will, no, longer, to, transport, bioterror, pathogens, after, newsintweets]</td>\n",
       "      <td>[usa, today, fedex, longer, transport, bioterror, pathogens, newsintweets]</td>\n",
       "      <td>[usa, today, fedex, will, no, long, to, transport, bioterror, pathogen, after, newsintweet]</td>\n",
       "      <td>[usa, today, fedex, long, transport, bioterror, pathogen, newsintweet]</td>\n",
       "      <td>[PROPN, NOUN, NOUN, AUX, ADV, ADV, PART, VERB, NOUN, NOUN, ADP, NOUN]</td>\n",
       "    </tr>\n",
       "  </tbody>\n",
       "</table>\n",
       "</div>"
      ],
      "text/plain": [
       "                                                                                                                        text  \\\n",
       "7250                                                      death certificates safes weapons and teslas: def con 23 #security    \n",
       "6439  infographic: at least 20 turkish security officials killed in pkk and isis terror attacks since suruc suicide bombing    \n",
       "4885                          3 years after the sikh temple massacre hate-violence prevention is key | @dviyer @colorlines     \n",
       "4115                                                          gotta love #summer in #calgary. #yyc #hailstorm #crazyweather    \n",
       "575                           usa today: .@fedex will no longer to transport bioterror pathogens after ... -  #newsintweets    \n",
       "\n",
       "                                                                                                                                   tokens  \\\n",
       "7250                                                               [death, certificates, safes, weapons, and, teslas, def, con, security]   \n",
       "6439  [infographic, at, least, turkish, security, officials, killed, in, pkk, and, isis, terror, attacks, since, suruc, suicide, bombing]   \n",
       "4885                                 [years, after, the, sikh, temple, massacre, hate, violence, prevention, is, key, dviyer, colorlines]   \n",
       "4115                                                                     [gotta, love, summer, in, calgary, yyc, hailstorm, crazyweather]   \n",
       "575                                       [usa, today, fedex, will, no, longer, to, transport, bioterror, pathogens, after, newsintweets]   \n",
       "\n",
       "                                                                                                  tokens_no_sw  \\\n",
       "7250                                         [death, certificates, safes, weapons, teslas, def, con, security]   \n",
       "6439  [infographic, turkish, security, officials, killed, pkk, isis, terror, attacks, suruc, suicide, bombing]   \n",
       "4885                      [years, sikh, temple, massacre, hate, violence, prevention, key, dviyer, colorlines]   \n",
       "4115                                              [gotta, love, summer, calgary, yyc, hailstorm, crazyweather]   \n",
       "575                                 [usa, today, fedex, longer, transport, bioterror, pathogens, newsintweets]   \n",
       "\n",
       "                                                                                                                               lemmas  \\\n",
       "7250                                                               [death, certificate, safe, weapon, and, tesla, def, con, security]   \n",
       "6439  [infographic, at, least, turkish, security, official, kill, in, pkk, and, isis, terror, attack, since, suruc, suicide, bombing]   \n",
       "4885                               [year, after, the, sikh, temple, massacre, hate, violence, prevention, be, key, dviyer, colorline]   \n",
       "4115                                                               [got, to, love, summer, in, calgary, yyc, hailstorm, crazyweather]   \n",
       "575                                       [usa, today, fedex, will, no, long, to, transport, bioterror, pathogen, after, newsintweet]   \n",
       "\n",
       "                                                                                              lemmas_no_sw  \\\n",
       "7250                                         [death, certificate, safe, weapon, tesla, def, con, security]   \n",
       "6439  [infographic, turkish, security, official, kill, pkk, isis, terror, attack, suruc, suicide, bombing]   \n",
       "4885                    [year, sikh, temple, massacre, hate, violence, prevention, key, dviyer, colorline]   \n",
       "4115                                            [got, love, summer, calgary, yyc, hailstorm, crazyweather]   \n",
       "575                                 [usa, today, fedex, long, transport, bioterror, pathogen, newsintweet]   \n",
       "\n",
       "                                                                                                 text_as_POS  \n",
       "7250                                                 [NOUN, NOUN, VERB, NOUN, CCONJ, NOUN, VERB, NOUN, NOUN]  \n",
       "6439  [PROPN, ADP, ADJ, ADJ, NOUN, NOUN, VERB, ADP, PROPN, CCONJ, NOUN, NOUN, NOUN, SCONJ, NOUN, NOUN, NOUN]  \n",
       "4885                       [NOUN, SCONJ, DET, PROPN, PROPN, PROPN, PROPN, NOUN, PROPN, AUX, ADJ, NOUN, NOUN]  \n",
       "4115                                                    [VERB, PART, VERB, NOUN, ADP, ADJ, NOUN, NOUN, NOUN]  \n",
       "575                                    [PROPN, NOUN, NOUN, AUX, ADV, ADV, PART, VERB, NOUN, NOUN, ADP, NOUN]  "
      ]
     },
     "execution_count": 50,
     "metadata": {},
     "output_type": "execute_result"
    }
   ],
   "source": [
    "X_train.head()"
   ]
  },
  {
   "cell_type": "markdown",
   "metadata": {},
   "source": [
    "In order to make the POS vectors, I'm using scikit-learn's CountVectorizer in a slightly unorthodox way. I'm using it to count POS tags rather than tokens."
   ]
  },
  {
   "cell_type": "code",
   "execution_count": 51,
   "metadata": {},
   "outputs": [],
   "source": [
    "# Making dataframes of vectorized POS tags\n",
    "\n",
    "pos_vec = CountVectorizer(tokenizer=spacy_pos)\n",
    "pos_vectorized_train = pos_vec.fit_transform(X_train['text'])\n",
    "pos_vectorized_df_train = pd.DataFrame(\n",
    "        pos_vectorized_train.toarray(),\n",
    "        columns=pos_vec.get_feature_names(),\n",
    "        index=X_train.index\n",
    ")\n",
    "\n",
    "pos_vectorized_test = pos_vec.transform(X_test['text'])\n",
    "pos_vectorized_df_test = pd.DataFrame(\n",
    "        pos_vectorized_test.toarray(),\n",
    "        columns=pos_vec.get_feature_names(),\n",
    "        index=X_test.index\n",
    ")\n",
    "\n",
    "pos_vectorized_val = pos_vec.transform(X_val['text'])\n",
    "pos_vectorized_df_val = pd.DataFrame(\n",
    "        pos_vectorized_val.toarray(),\n",
    "        columns=pos_vec.get_feature_names(),\n",
    "        index=X_val.index\n",
    ")"
   ]
  },
  {
   "cell_type": "code",
   "execution_count": 52,
   "metadata": {},
   "outputs": [
    {
     "data": {
      "text/html": [
       "<div>\n",
       "<style scoped>\n",
       "    .dataframe tbody tr th:only-of-type {\n",
       "        vertical-align: middle;\n",
       "    }\n",
       "\n",
       "    .dataframe tbody tr th {\n",
       "        vertical-align: top;\n",
       "    }\n",
       "\n",
       "    .dataframe thead th {\n",
       "        text-align: right;\n",
       "    }\n",
       "</style>\n",
       "<table border=\"1\" class=\"dataframe\">\n",
       "  <thead>\n",
       "    <tr style=\"text-align: right;\">\n",
       "      <th></th>\n",
       "      <th>ADJ</th>\n",
       "      <th>ADP</th>\n",
       "      <th>ADV</th>\n",
       "      <th>AUX</th>\n",
       "      <th>CCONJ</th>\n",
       "      <th>DET</th>\n",
       "      <th>INTJ</th>\n",
       "      <th>NOUN</th>\n",
       "      <th>NUM</th>\n",
       "      <th>PART</th>\n",
       "      <th>PRON</th>\n",
       "      <th>PROPN</th>\n",
       "      <th>PUNCT</th>\n",
       "      <th>SCONJ</th>\n",
       "      <th>VERB</th>\n",
       "      <th>X</th>\n",
       "    </tr>\n",
       "  </thead>\n",
       "  <tbody>\n",
       "    <tr>\n",
       "      <th>7250</th>\n",
       "      <td>0</td>\n",
       "      <td>0</td>\n",
       "      <td>0</td>\n",
       "      <td>0</td>\n",
       "      <td>1</td>\n",
       "      <td>0</td>\n",
       "      <td>0</td>\n",
       "      <td>6</td>\n",
       "      <td>0</td>\n",
       "      <td>0</td>\n",
       "      <td>0</td>\n",
       "      <td>0</td>\n",
       "      <td>0</td>\n",
       "      <td>0</td>\n",
       "      <td>2</td>\n",
       "      <td>0</td>\n",
       "    </tr>\n",
       "    <tr>\n",
       "      <th>6439</th>\n",
       "      <td>2</td>\n",
       "      <td>2</td>\n",
       "      <td>0</td>\n",
       "      <td>0</td>\n",
       "      <td>1</td>\n",
       "      <td>0</td>\n",
       "      <td>0</td>\n",
       "      <td>8</td>\n",
       "      <td>0</td>\n",
       "      <td>0</td>\n",
       "      <td>0</td>\n",
       "      <td>2</td>\n",
       "      <td>0</td>\n",
       "      <td>1</td>\n",
       "      <td>1</td>\n",
       "      <td>0</td>\n",
       "    </tr>\n",
       "    <tr>\n",
       "      <th>4885</th>\n",
       "      <td>1</td>\n",
       "      <td>0</td>\n",
       "      <td>0</td>\n",
       "      <td>1</td>\n",
       "      <td>0</td>\n",
       "      <td>1</td>\n",
       "      <td>0</td>\n",
       "      <td>4</td>\n",
       "      <td>0</td>\n",
       "      <td>0</td>\n",
       "      <td>0</td>\n",
       "      <td>5</td>\n",
       "      <td>0</td>\n",
       "      <td>1</td>\n",
       "      <td>0</td>\n",
       "      <td>0</td>\n",
       "    </tr>\n",
       "    <tr>\n",
       "      <th>4115</th>\n",
       "      <td>1</td>\n",
       "      <td>1</td>\n",
       "      <td>0</td>\n",
       "      <td>0</td>\n",
       "      <td>0</td>\n",
       "      <td>0</td>\n",
       "      <td>0</td>\n",
       "      <td>4</td>\n",
       "      <td>0</td>\n",
       "      <td>1</td>\n",
       "      <td>0</td>\n",
       "      <td>0</td>\n",
       "      <td>0</td>\n",
       "      <td>0</td>\n",
       "      <td>2</td>\n",
       "      <td>0</td>\n",
       "    </tr>\n",
       "    <tr>\n",
       "      <th>575</th>\n",
       "      <td>0</td>\n",
       "      <td>1</td>\n",
       "      <td>2</td>\n",
       "      <td>1</td>\n",
       "      <td>0</td>\n",
       "      <td>0</td>\n",
       "      <td>0</td>\n",
       "      <td>5</td>\n",
       "      <td>0</td>\n",
       "      <td>1</td>\n",
       "      <td>0</td>\n",
       "      <td>1</td>\n",
       "      <td>0</td>\n",
       "      <td>0</td>\n",
       "      <td>1</td>\n",
       "      <td>0</td>\n",
       "    </tr>\n",
       "  </tbody>\n",
       "</table>\n",
       "</div>"
      ],
      "text/plain": [
       "      ADJ  ADP  ADV  AUX  CCONJ  DET  INTJ  NOUN  NUM  PART  PRON  PROPN  \\\n",
       "7250    0    0    0    0      1    0     0     6    0     0     0      0   \n",
       "6439    2    2    0    0      1    0     0     8    0     0     0      2   \n",
       "4885    1    0    0    1      0    1     0     4    0     0     0      5   \n",
       "4115    1    1    0    0      0    0     0     4    0     1     0      0   \n",
       "575     0    1    2    1      0    0     0     5    0     1     0      1   \n",
       "\n",
       "      PUNCT  SCONJ  VERB  X  \n",
       "7250      0      0     2  0  \n",
       "6439      0      1     1  0  \n",
       "4885      0      1     0  0  \n",
       "4115      0      0     2  0  \n",
       "575       0      0     1  0  "
      ]
     },
     "execution_count": 52,
     "metadata": {},
     "output_type": "execute_result"
    }
   ],
   "source": [
    "pos_vectorized_df_train.head()"
   ]
  },
  {
   "cell_type": "code",
   "execution_count": 53,
   "metadata": {},
   "outputs": [],
   "source": [
    "# VISUALIZE?\n",
    "# PROPORTIONS?\n",
    "#\n",
    "# \n",
    "# \n",
    "# \n",
    "# \n",
    "# \n",
    "# #"
   ]
  },
  {
   "cell_type": "markdown",
   "metadata": {},
   "source": [
    "### Vectorized named-entity recognition (NER) tags \n",
    "SpaCy has the capability of recognizing \"named-entities\" such as places, companies, dates, people, and more. Here are some examples of what the tool can identify."
   ]
  },
  {
   "cell_type": "code",
   "execution_count": 54,
   "metadata": {},
   "outputs": [],
   "source": [
    "# VISUALIZE NER EXAMPLES\n",
    "#\n",
    "# \n",
    "# \n",
    "#"
   ]
  },
  {
   "cell_type": "markdown",
   "metadata": {},
   "source": [
    "For the purposes of identifying disaster tweets, here are the [NER tags](https://towardsdatascience.com/explorations-in-named-entity-recognition-and-was-eleanor-roosevelt-right-671271117218) I am interested in:\n",
    "\n",
    "* **GPE**: Countries, cities, states.\n",
    "* **NORP**: Nationalities or religious or political groups.\n",
    "* **ORG**: Companies, agencies, institutions, etc.\n",
    "* **DATE**: Absolute or relative dates or periods.\n",
    "* **TIME**: Times smaller than a day.\n",
    "\n",
    "I am again using scikit-learn's CountVectorizer to count the entities that SpaCy finds in each tweet."
   ]
  },
  {
   "cell_type": "code",
   "execution_count": 55,
   "metadata": {},
   "outputs": [],
   "source": [
    "# Spacy NER\n",
    "\n",
    "def spacy_ner(\n",
    "    text, \n",
    "    ner_tags=['GPE', 'NORP', 'ORG', 'DATE', 'TIME']\n",
    "    ):\n",
    "    \"\"\"\n",
    "    Takes in a string and returns a list of named-entity recognition tags.\n",
    "    Also takes in a specific list of NER tags to look for.\n",
    "    To look for all NER tags supported by SpaCy, set `ner_tags=None`.\n",
    "    Intended use is to use this function as a tokenizer in an sklearn vectorizor.\n",
    "    \"\"\"\n",
    "    tokens = tokenizer.tokenize(text)\n",
    "    doc = nlp(' '.join(tokens))\n",
    "    ents = doc.ents\n",
    "    if ner_tags:\n",
    "        tags = [ent.label_ for ent in ents if ent.label_ in ner_tags]\n",
    "        return tags\n",
    "    else:\n",
    "        tags = [ent.label_ for ent in ents]\n",
    "        return tags"
   ]
  },
  {
   "cell_type": "code",
   "execution_count": 56,
   "metadata": {},
   "outputs": [],
   "source": [
    "# Making dataframes of vectorized NER tags\n",
    "\n",
    "ner_vec = CountVectorizer(tokenizer=spacy_ner)\n",
    "ner_vectorized_train = ner_vec.fit_transform(X_train['text'])\n",
    "ner_vectorized_df_train = pd.DataFrame(\n",
    "        ner_vectorized_train.toarray(),\n",
    "        columns=ner_vec.get_feature_names(),\n",
    "        index=X_train.index\n",
    ")\n",
    "\n",
    "ner_vectorized_test = ner_vec.transform(X_test['text'])\n",
    "ner_vectorized_df_test = pd.DataFrame(\n",
    "        ner_vectorized_test.toarray(),\n",
    "        columns=ner_vec.get_feature_names(),\n",
    "        index=X_test.index\n",
    ")\n",
    "\n",
    "ner_vectorized_val = ner_vec.transform(X_val['text'])\n",
    "ner_vectorized_df_val = pd.DataFrame(\n",
    "        ner_vectorized_val.toarray(),\n",
    "        columns=ner_vec.get_feature_names(),\n",
    "        index=X_val.index\n",
    ")"
   ]
  },
  {
   "cell_type": "code",
   "execution_count": 57,
   "metadata": {},
   "outputs": [
    {
     "data": {
      "text/html": [
       "<div>\n",
       "<style scoped>\n",
       "    .dataframe tbody tr th:only-of-type {\n",
       "        vertical-align: middle;\n",
       "    }\n",
       "\n",
       "    .dataframe tbody tr th {\n",
       "        vertical-align: top;\n",
       "    }\n",
       "\n",
       "    .dataframe thead th {\n",
       "        text-align: right;\n",
       "    }\n",
       "</style>\n",
       "<table border=\"1\" class=\"dataframe\">\n",
       "  <thead>\n",
       "    <tr style=\"text-align: right;\">\n",
       "      <th></th>\n",
       "      <th>DATE</th>\n",
       "      <th>GPE</th>\n",
       "      <th>NORP</th>\n",
       "      <th>ORG</th>\n",
       "      <th>TIME</th>\n",
       "    </tr>\n",
       "  </thead>\n",
       "  <tbody>\n",
       "    <tr>\n",
       "      <th>7250</th>\n",
       "      <td>0</td>\n",
       "      <td>0</td>\n",
       "      <td>0</td>\n",
       "      <td>0</td>\n",
       "      <td>0</td>\n",
       "    </tr>\n",
       "    <tr>\n",
       "      <th>6439</th>\n",
       "      <td>0</td>\n",
       "      <td>0</td>\n",
       "      <td>1</td>\n",
       "      <td>0</td>\n",
       "      <td>0</td>\n",
       "    </tr>\n",
       "    <tr>\n",
       "      <th>4885</th>\n",
       "      <td>0</td>\n",
       "      <td>0</td>\n",
       "      <td>0</td>\n",
       "      <td>0</td>\n",
       "      <td>0</td>\n",
       "    </tr>\n",
       "    <tr>\n",
       "      <th>4115</th>\n",
       "      <td>1</td>\n",
       "      <td>0</td>\n",
       "      <td>0</td>\n",
       "      <td>0</td>\n",
       "      <td>0</td>\n",
       "    </tr>\n",
       "    <tr>\n",
       "      <th>575</th>\n",
       "      <td>1</td>\n",
       "      <td>0</td>\n",
       "      <td>0</td>\n",
       "      <td>0</td>\n",
       "      <td>0</td>\n",
       "    </tr>\n",
       "  </tbody>\n",
       "</table>\n",
       "</div>"
      ],
      "text/plain": [
       "      DATE  GPE  NORP  ORG  TIME\n",
       "7250     0    0     0    0     0\n",
       "6439     0    0     1    0     0\n",
       "4885     0    0     0    0     0\n",
       "4115     1    0     0    0     0\n",
       "575      1    0     0    0     0"
      ]
     },
     "execution_count": 57,
     "metadata": {},
     "output_type": "execute_result"
    }
   ],
   "source": [
    "ner_vectorized_df_train.head()"
   ]
  },
  {
   "cell_type": "markdown",
   "metadata": {},
   "source": [
    "## Meta-feature Engineering\n",
    "\n",
    "To engineer more features, I'm going to use seemingly arbitrary information from each tweet. Here's the set of meta-features I plan to make:\n",
    "\n",
    "* Has URL (binary)\n",
    "* Character count\n",
    "* Number of stop words\n",
    "* Average length of tokens\n",
    "* Number of tokens\n",
    "* Number of unique tokens\n",
    "* Proportion of stop words\n",
    "* Proportion of words that are hashtags (#)\n",
    "* Proportion of words that are mentions (@)\n",
    "\n",
    "I drew inspiration for some of these features from [this Kaggle entry](https://www.kaggle.com/code/gunesevitan/nlp-with-disaster-tweets-eda-cleaning-and-bert/notebook).\n",
    "\n",
    "With the meta-features that are token-oriented, I have options. I have four different versions of tokenized tweets:\n",
    "\n",
    "* tokens\n",
    "* tokens without stop words\n",
    "* lemmas\n",
    "* lemmas without stop words\n",
    "\n",
    "In order to pick the version of tokens that will likely be most informative to the model, I will run statistical t-tests on each of them. I'm trying to answer the question: **Which version of tokens, when used to engineer a new feature, has the biggest disparity between classes?**"
   ]
  },
  {
   "cell_type": "markdown",
   "metadata": {},
   "source": [
    "#### Average length of token\n",
    "Based on the results of the t-tests below, `lemmas` is the best column to use to engineer this feature. It has the largest t-statistic when the two classes are compared."
   ]
  },
  {
   "cell_type": "code",
   "execution_count": 58,
   "metadata": {},
   "outputs": [
    {
     "name": "stdout",
     "output_type": "stream",
     "text": [
      "tokens              Ttest_indResult(statistic=-9.429305653910466, pvalue=6.649961330796602e-21)\n",
      "tokens_no_sw        Ttest_indResult(statistic=-6.805026394530518, pvalue=1.1538011724571123e-11)\n",
      "lemmas              Ttest_indResult(statistic=-9.678085332795066, pvalue=6.3363107455380485e-22)\n",
      "lemmas_no_sw        Ttest_indResult(statistic=-5.63457087131832, pvalue=1.8704351351735887e-08)\n"
     ]
    }
   ],
   "source": [
    "\n",
    "for column in ['tokens','tokens_no_sw', 'lemmas', 'lemmas_no_sw']:\n",
    "\n",
    "    tokens = X_train[column][X_train[column].apply(lambda x: x != [])]\n",
    "\n",
    "    average_length_0 = \\\n",
    "        tokens[y_train==0].apply(lambda x: np.mean([len(t) for t in x]))\n",
    "    average_length_1 = \\\n",
    "        tokens[y_train==1].apply(lambda x: np.mean([len(t) for t in x]))\n",
    "\n",
    "    t_test = ttest_ind(average_length_0, average_length_1)\n",
    "    print(f'{column:{20}}{t_test}')"
   ]
  },
  {
   "cell_type": "markdown",
   "metadata": {},
   "source": [
    "#### Number of tokens\n",
    "`lemmas_no_sw` is the best column to use to engineer this feature."
   ]
  },
  {
   "cell_type": "code",
   "execution_count": 59,
   "metadata": {},
   "outputs": [
    {
     "name": "stdout",
     "output_type": "stream",
     "text": [
      "tokens              Ttest_indResult(statistic=-1.9869641296078033, pvalue=0.046991560808547814)\n",
      "tokens_no_sw        Ttest_indResult(statistic=-10.38194685949488, pvalue=6.008862053942342e-25)\n",
      "lemmas              Ttest_indResult(statistic=-1.1608271299963693, pvalue=0.24577851266673847)\n",
      "lemmas_no_sw        Ttest_indResult(statistic=-10.945184922537834, pvalue=1.6502750259412025e-27)\n"
     ]
    }
   ],
   "source": [
    "for column in ['tokens','tokens_no_sw', 'lemmas', 'lemmas_no_sw']:\n",
    "\n",
    "    n_tokens_0 = \\\n",
    "        X_train[column][y_train==0].apply(len)\n",
    "    n_tokens_1 = \\\n",
    "        X_train[column][y_train==1].apply(len)\n",
    "        \n",
    "    t_test = ttest_ind(n_tokens_0, n_tokens_1)\n",
    "    print(f'{column:{20}}{t_test}')"
   ]
  },
  {
   "cell_type": "markdown",
   "metadata": {},
   "source": [
    "#### Number of unique tokens\n",
    "`lemmas_no_sw` is the best column to use to engineer this feature."
   ]
  },
  {
   "cell_type": "code",
   "execution_count": 60,
   "metadata": {},
   "outputs": [
    {
     "name": "stdout",
     "output_type": "stream",
     "text": [
      "tokens              Ttest_indResult(statistic=-2.3841859395190856, pvalue=0.017161318023054744)\n",
      "tokens_no_sw        Ttest_indResult(statistic=-10.200541872012503, pvalue=3.7744708957693434e-24)\n",
      "lemmas              Ttest_indResult(statistic=-1.7770935849468357, pvalue=0.07562556294286657)\n",
      "lemmas_no_sw        Ttest_indResult(statistic=-10.666086278510289, pvalue=3.180102960273018e-26)\n"
     ]
    }
   ],
   "source": [
    "for column in ['tokens','tokens_no_sw', 'lemmas', 'lemmas_no_sw']:\n",
    "\n",
    "    unique_tokens_0 = \\\n",
    "        X_train[column][y_train==0].apply(lambda x: len(set(x)))\n",
    "    unique_tokens_1 = \\\n",
    "        X_train[column][y_train==1].apply(lambda x: len(set(x)))\n",
    "        \n",
    "    t_test = ttest_ind(unique_tokens_0, unique_tokens_1)\n",
    "    print(f'{column:{20}}{t_test}')"
   ]
  },
  {
   "cell_type": "markdown",
   "metadata": {},
   "source": [
    "Now I will make a new DataFrame composed of the meta-features I listed above."
   ]
  },
  {
   "cell_type": "code",
   "execution_count": 61,
   "metadata": {},
   "outputs": [
    {
     "data": {
      "text/html": [
       "<div>\n",
       "<style scoped>\n",
       "    .dataframe tbody tr th:only-of-type {\n",
       "        vertical-align: middle;\n",
       "    }\n",
       "\n",
       "    .dataframe tbody tr th {\n",
       "        vertical-align: top;\n",
       "    }\n",
       "\n",
       "    .dataframe thead th {\n",
       "        text-align: right;\n",
       "    }\n",
       "</style>\n",
       "<table border=\"1\" class=\"dataframe\">\n",
       "  <thead>\n",
       "    <tr style=\"text-align: right;\">\n",
       "      <th></th>\n",
       "      <th>has_url</th>\n",
       "      <th>character_count</th>\n",
       "      <th>sw_count</th>\n",
       "      <th>mean_lemma_length</th>\n",
       "      <th>lemma_count_no_sw</th>\n",
       "      <th>unique_lemmas_no_sw</th>\n",
       "      <th>sw_proportion</th>\n",
       "      <th>hashtag_proportion</th>\n",
       "      <th>mention_proportion</th>\n",
       "    </tr>\n",
       "  </thead>\n",
       "  <tbody>\n",
       "    <tr>\n",
       "      <th>7250</th>\n",
       "      <td>1</td>\n",
       "      <td>66</td>\n",
       "      <td>1</td>\n",
       "      <td>5.333333</td>\n",
       "      <td>8</td>\n",
       "      <td>8</td>\n",
       "      <td>0.111111</td>\n",
       "      <td>0.111111</td>\n",
       "      <td>0.000000</td>\n",
       "    </tr>\n",
       "    <tr>\n",
       "      <th>6439</th>\n",
       "      <td>1</td>\n",
       "      <td>118</td>\n",
       "      <td>5</td>\n",
       "      <td>5.470588</td>\n",
       "      <td>12</td>\n",
       "      <td>12</td>\n",
       "      <td>0.294118</td>\n",
       "      <td>0.000000</td>\n",
       "      <td>0.000000</td>\n",
       "    </tr>\n",
       "    <tr>\n",
       "      <th>4885</th>\n",
       "      <td>1</td>\n",
       "      <td>94</td>\n",
       "      <td>3</td>\n",
       "      <td>5.538462</td>\n",
       "      <td>10</td>\n",
       "      <td>10</td>\n",
       "      <td>0.230769</td>\n",
       "      <td>0.000000</td>\n",
       "      <td>0.153846</td>\n",
       "    </tr>\n",
       "    <tr>\n",
       "      <th>4115</th>\n",
       "      <td>1</td>\n",
       "      <td>62</td>\n",
       "      <td>1</td>\n",
       "      <td>5.333333</td>\n",
       "      <td>7</td>\n",
       "      <td>7</td>\n",
       "      <td>0.125000</td>\n",
       "      <td>0.625000</td>\n",
       "      <td>0.000000</td>\n",
       "    </tr>\n",
       "    <tr>\n",
       "      <th>575</th>\n",
       "      <td>1</td>\n",
       "      <td>94</td>\n",
       "      <td>4</td>\n",
       "      <td>5.583333</td>\n",
       "      <td>8</td>\n",
       "      <td>8</td>\n",
       "      <td>0.333333</td>\n",
       "      <td>0.083333</td>\n",
       "      <td>0.083333</td>\n",
       "    </tr>\n",
       "  </tbody>\n",
       "</table>\n",
       "</div>"
      ],
      "text/plain": [
       "      has_url  character_count  sw_count  mean_lemma_length  \\\n",
       "7250        1               66         1           5.333333   \n",
       "6439        1              118         5           5.470588   \n",
       "4885        1               94         3           5.538462   \n",
       "4115        1               62         1           5.333333   \n",
       "575         1               94         4           5.583333   \n",
       "\n",
       "      lemma_count_no_sw  unique_lemmas_no_sw  sw_proportion  \\\n",
       "7250                  8                    8       0.111111   \n",
       "6439                 12                   12       0.294118   \n",
       "4885                 10                   10       0.230769   \n",
       "4115                  7                    7       0.125000   \n",
       "575                   8                    8       0.333333   \n",
       "\n",
       "      hashtag_proportion  mention_proportion  \n",
       "7250            0.111111            0.000000  \n",
       "6439            0.000000            0.000000  \n",
       "4885            0.000000            0.153846  \n",
       "4115            0.625000            0.000000  \n",
       "575             0.083333            0.083333  "
      ]
     },
     "execution_count": 61,
     "metadata": {},
     "output_type": "execute_result"
    }
   ],
   "source": [
    "# has_url_Series already exists\n",
    "# Start a DF with it\n",
    "\n",
    "meta_features_df_train = pd.DataFrame(has_url_Series_train)\n",
    "\n",
    "# Character count. Original tweet. No URL.\n",
    "meta_features_df_train['character_count'] = \\\n",
    "    X_train['text'].apply(len)\n",
    "\n",
    "# Stop word count. Original tweet. No URL.\n",
    "meta_features_df_train['sw_count'] = \\\n",
    "    X_train['tokens'].apply(lambda x: len([w for w in x if w in stopword_list]))\n",
    "\n",
    "# Average lemma length. Including stop words.\n",
    "meta_features_df_train['mean_lemma_length'] = \\\n",
    "    X_train['lemmas'].apply(lambda x: np.mean([len(l) for l in x]))\n",
    "\n",
    "# Lemma count. No stop words.\n",
    "meta_features_df_train['lemma_count_no_sw'] = \\\n",
    "    X_train['lemmas_no_sw'].apply(len)\n",
    "\n",
    "# Number of unique lemmas. No stop words.\n",
    "meta_features_df_train['unique_lemmas_no_sw'] = \\\n",
    "    X_train['lemmas_no_sw'].apply(lambda x: len(set(x)))\n",
    "\n",
    "# Proportion of stop words\n",
    "meta_features_df_train['sw_proportion'] = \\\n",
    "    X_train['tokens'].apply(lambda x: len([w for w in x if w in stopword_list]))\\\n",
    "        / X_train['tokens'].apply(len)\n",
    "\n",
    "# Proportion of hashtags\n",
    "meta_features_df_train['hashtag_proportion'] = \\\n",
    "    X_train['text'].apply(lambda x: len(re.findall(r'#{1}\\w+', x)))\\\n",
    "        / X_train['tokens'].apply(len)\n",
    "\n",
    "# Proportion of mentions\n",
    "meta_features_df_train['mention_proportion'] = \\\n",
    "    X_train['text'].apply(lambda x: len(re.findall(r'@{1}\\w+', x)))\\\n",
    "        / X_train['tokens'].apply(len)\n",
    "\n",
    "meta_features_df_train.head()"
   ]
  },
  {
   "cell_type": "code",
   "execution_count": 62,
   "metadata": {},
   "outputs": [],
   "source": [
    "# Repeat the above with the test and val sets\n",
    "\n",
    "# TEST\n",
    "meta_features_df_test = pd.DataFrame(has_url_Series_test)\n",
    "\n",
    "# Character count. Original tweet. No URL.\n",
    "meta_features_df_test['character_count'] = \\\n",
    "    X_test['text'].apply(len)\n",
    "\n",
    "# Stop word count. Original tweet. No URL.\n",
    "meta_features_df_test['sw_count'] = \\\n",
    "    X_test['tokens'].apply(lambda x: len([w for w in x if w in stopword_list]))\n",
    "\n",
    "# Average lemma length. Including stop words.\n",
    "meta_features_df_test['mean_lemma_length'] = \\\n",
    "    X_test['lemmas'].apply(lambda x: np.mean([len(l) for l in x]))\n",
    "\n",
    "# Lemma count. No stop words.\n",
    "meta_features_df_test['lemma_count_no_sw'] = \\\n",
    "    X_test['lemmas_no_sw'].apply(len)\n",
    "\n",
    "# Number of unique lemmas. No stop words.\n",
    "meta_features_df_test['unique_lemmas_no_sw'] = \\\n",
    "    X_test['lemmas_no_sw'].apply(lambda x: len(set(x)))\n",
    "\n",
    "# Proportion of stop words\n",
    "meta_features_df_test['sw_proportion'] = \\\n",
    "    X_test['tokens'].apply(lambda x: len([w for w in x if w in stopword_list]))\\\n",
    "        / X_test['tokens'].apply(len)\n",
    "\n",
    "# Proportion of hashtags\n",
    "meta_features_df_test['hashtag_proportion'] = \\\n",
    "    X_test['text'].apply(lambda x: len(re.findall(r'#{1}\\w+', x)))\\\n",
    "        / X_test['tokens'].apply(len)\n",
    "\n",
    "# Proportion of mentions\n",
    "meta_features_df_test['mention_proportion'] = \\\n",
    "    X_test['text'].apply(lambda x: len(re.findall(r'@{1}\\w+', x)))\\\n",
    "        / X_test['tokens'].apply(len)\n",
    "\n",
    "#######################################################################\n",
    "\n",
    "# VAL\n",
    "meta_features_df_val = pd.DataFrame(has_url_Series_val)\n",
    "\n",
    "# Character count. Original tweet. No URL.\n",
    "meta_features_df_val['character_count'] = \\\n",
    "    X_val['text'].apply(len)\n",
    "\n",
    "# Stop word count. Original tweet. No URL.\n",
    "meta_features_df_val['sw_count'] = \\\n",
    "    X_val['tokens'].apply(lambda x: len([w for w in x if w in stopword_list]))\n",
    "\n",
    "# Average lemma length. Including stop words.\n",
    "meta_features_df_val['mean_lemma_length'] = \\\n",
    "    X_val['lemmas'].apply(lambda x: np.mean([len(l) for l in x]))\n",
    "\n",
    "# Lemma count. No stop words.\n",
    "meta_features_df_val['lemma_count_no_sw'] = \\\n",
    "    X_val['lemmas_no_sw'].apply(len)\n",
    "\n",
    "# Number of unique lemmas. No stop words.\n",
    "meta_features_df_val['unique_lemmas_no_sw'] = \\\n",
    "    X_val['lemmas_no_sw'].apply(lambda x: len(set(x)))\n",
    "\n",
    "# Proportion of stop words\n",
    "meta_features_df_val['sw_proportion'] = \\\n",
    "    X_val['tokens'].apply(lambda x: len([w for w in x if w in stopword_list]))\\\n",
    "        / X_val['tokens'].apply(len)\n",
    "\n",
    "# Proportion of hashtags\n",
    "meta_features_df_val['hashtag_proportion'] = \\\n",
    "    X_val['text'].apply(lambda x: len(re.findall(r'#{1}\\w+', x)))\\\n",
    "        / X_val['tokens'].apply(len)\n",
    "\n",
    "# Proportion of mentions\n",
    "meta_features_df_val['mention_proportion'] = \\\n",
    "    X_val['text'].apply(lambda x: len(re.findall(r'@{1}\\w+', x)))\\\n",
    "        / X_val['tokens'].apply(len)"
   ]
  },
  {
   "cell_type": "code",
   "execution_count": 63,
   "metadata": {},
   "outputs": [],
   "source": [
    "# VISUALIZING\n",
    "#\n",
    "# \n",
    "# \n",
    "# \n",
    "# \n",
    "# \n",
    "# \n",
    "#"
   ]
  },
  {
   "cell_type": "code",
   "execution_count": 64,
   "metadata": {},
   "outputs": [],
   "source": [
    "color_non = '#2c2fbf'\n",
    "color_disaster ='#f14848'\n",
    "kwargs_distplot = {'kde':True, 'stat':\"density\", 'linewidth':0, 'bins':'auto'}"
   ]
  },
  {
   "cell_type": "code",
   "execution_count": 65,
   "metadata": {},
   "outputs": [
    {
     "data": {
      "image/png": "[encoded data removed]",
      "text/plain": [
       "<Figure size 1080x720 with 9 Axes>"
      ]
     },
     "metadata": {
      "needs_background": "light"
     },
     "output_type": "display_data"
    }
   ],
   "source": [
    "fig, axes = plt.subplots(nrows=3, ncols=3, figsize=(15,10))\n",
    "fl_ax = axes.flatten()\n",
    "\n",
    "for idx, ftr in list(enumerate(meta_features_df_train.columns)):\n",
    "    sns.histplot(meta_features_df_train[ftr][y_train==0], ax=fl_ax[idx], **kwargs_distplot, color=color_non)\n",
    "    sns.histplot(meta_features_df_train[ftr][y_train==1], ax=fl_ax[idx], **kwargs_distplot, color=color_disaster)\n",
    "\n",
    "plt.tight_layout()\n",
    "plt.show()\n",
    "\n",
    "# sns.countplot(meta_features_df_train['has_url'][y_train==0], ax=fl_ax[0], color=color_non)\n",
    "# sns.countplot(meta_features_df_train['has_url'][y_train==1], ax=fl_ax[0], color=color_disaster)"
   ]
  },
  {
   "cell_type": "code",
   "execution_count": 66,
   "metadata": {},
   "outputs": [],
   "source": [
    "# END VISUALIZING\n",
    "#\n",
    "#\n",
    "# \n",
    "# \n",
    "# \n",
    "# \n",
    "# \n",
    "#  #"
   ]
  },
  {
   "cell_type": "markdown",
   "metadata": {},
   "source": [
    "## Vectorizing the tweets\n",
    "\n",
    "I've engineered linguistic features and meta-features. I'm going to make the actual text of the tweets interpretable by a machine learning model. I'm using scikit-learn's TF-IDF vectorizer and the lemmatized tokens of the tweets.\n",
    "\n",
    "This vectorizor returns ______________. \n",
    "\n",
    "In the same step, I'm going to combine the vectors with the other features I've engineered so far into a single DataFrame. **This is the DataFrame that the model will train on.**"
   ]
  },
  {
   "cell_type": "code",
   "execution_count": 91,
   "metadata": {},
   "outputs": [
    {
     "name": "stderr",
     "output_type": "stream",
     "text": [
      "c:\\Users\\zshoo\\anaconda3\\envs\\learn-env\\lib\\site-packages\\sklearn\\feature_extraction\\text.py:383: UserWarning: Your stop_words may be inconsistent with your preprocessing. Tokenizing the stop words generated tokens ['ll'] not in stop_words.\n",
      "  warnings.warn('Your stop_words may be inconsistent with '\n"
     ]
    },
    {
     "data": {
      "text/html": [
       "<div>\n",
       "<style scoped>\n",
       "    .dataframe tbody tr th:only-of-type {\n",
       "        vertical-align: middle;\n",
       "    }\n",
       "\n",
       "    .dataframe tbody tr th {\n",
       "        vertical-align: top;\n",
       "    }\n",
       "\n",
       "    .dataframe thead th {\n",
       "        text-align: right;\n",
       "    }\n",
       "</style>\n",
       "<table border=\"1\" class=\"dataframe\">\n",
       "  <thead>\n",
       "    <tr style=\"text-align: right;\">\n",
       "      <th></th>\n",
       "      <th>attack</th>\n",
       "      <th>bag</th>\n",
       "      <th>body</th>\n",
       "      <th>bomb</th>\n",
       "      <th>building</th>\n",
       "      <th>burn</th>\n",
       "      <th>california</th>\n",
       "      <th>car</th>\n",
       "      <th>cause</th>\n",
       "      <th>come</th>\n",
       "      <th>...</th>\n",
       "      <th>TIME</th>\n",
       "      <th>has_url</th>\n",
       "      <th>character_count</th>\n",
       "      <th>sw_count</th>\n",
       "      <th>mean_lemma_length</th>\n",
       "      <th>lemma_count_no_sw</th>\n",
       "      <th>unique_lemmas_no_sw</th>\n",
       "      <th>sw_proportion</th>\n",
       "      <th>hashtag_proportion</th>\n",
       "      <th>mention_proportion</th>\n",
       "    </tr>\n",
       "  </thead>\n",
       "  <tbody>\n",
       "    <tr>\n",
       "      <th>7250</th>\n",
       "      <td>-0.139029</td>\n",
       "      <td>-0.113093</td>\n",
       "      <td>-0.140957</td>\n",
       "      <td>-0.139559</td>\n",
       "      <td>-0.11789</td>\n",
       "      <td>-0.13567</td>\n",
       "      <td>-0.117656</td>\n",
       "      <td>-0.118316</td>\n",
       "      <td>-0.120759</td>\n",
       "      <td>-0.144834</td>\n",
       "      <td>...</td>\n",
       "      <td>-0.170625</td>\n",
       "      <td>0.949834</td>\n",
       "      <td>-0.658384</td>\n",
       "      <td>-1.081962</td>\n",
       "      <td>0.451311</td>\n",
       "      <td>-0.074281</td>\n",
       "      <td>-0.001094</td>\n",
       "      <td>-1.311649</td>\n",
       "      <td>0.839409</td>\n",
       "      <td>-0.440997</td>\n",
       "    </tr>\n",
       "    <tr>\n",
       "      <th>6439</th>\n",
       "      <td>4.874942</td>\n",
       "      <td>-0.113093</td>\n",
       "      <td>-0.140957</td>\n",
       "      <td>-0.139559</td>\n",
       "      <td>-0.11789</td>\n",
       "      <td>-0.13567</td>\n",
       "      <td>-0.117656</td>\n",
       "      <td>-0.118316</td>\n",
       "      <td>-0.120759</td>\n",
       "      <td>-0.144834</td>\n",
       "      <td>...</td>\n",
       "      <td>-0.170625</td>\n",
       "      <td>0.949834</td>\n",
       "      <td>0.955996</td>\n",
       "      <td>0.021510</td>\n",
       "      <td>0.592690</td>\n",
       "      <td>1.169246</td>\n",
       "      <td>1.306316</td>\n",
       "      <td>-0.253237</td>\n",
       "      <td>-0.394316</td>\n",
       "      <td>-0.440997</td>\n",
       "    </tr>\n",
       "    <tr>\n",
       "      <th>4885</th>\n",
       "      <td>-0.139029</td>\n",
       "      <td>-0.113093</td>\n",
       "      <td>-0.140957</td>\n",
       "      <td>-0.139559</td>\n",
       "      <td>-0.11789</td>\n",
       "      <td>-0.13567</td>\n",
       "      <td>-0.117656</td>\n",
       "      <td>-0.118316</td>\n",
       "      <td>-0.120759</td>\n",
       "      <td>-0.144834</td>\n",
       "      <td>...</td>\n",
       "      <td>-0.170625</td>\n",
       "      <td>0.949834</td>\n",
       "      <td>0.210897</td>\n",
       "      <td>-0.530226</td>\n",
       "      <td>0.662603</td>\n",
       "      <td>0.547482</td>\n",
       "      <td>0.652611</td>\n",
       "      <td>-0.619610</td>\n",
       "      <td>-0.394316</td>\n",
       "      <td>1.644250</td>\n",
       "    </tr>\n",
       "    <tr>\n",
       "      <th>4115</th>\n",
       "      <td>-0.139029</td>\n",
       "      <td>-0.113093</td>\n",
       "      <td>-0.140957</td>\n",
       "      <td>-0.139559</td>\n",
       "      <td>-0.11789</td>\n",
       "      <td>-0.13567</td>\n",
       "      <td>-0.117656</td>\n",
       "      <td>-0.118316</td>\n",
       "      <td>-0.120759</td>\n",
       "      <td>-0.144834</td>\n",
       "      <td>...</td>\n",
       "      <td>-0.170625</td>\n",
       "      <td>0.949834</td>\n",
       "      <td>-0.782567</td>\n",
       "      <td>-1.081962</td>\n",
       "      <td>0.451311</td>\n",
       "      <td>-0.385163</td>\n",
       "      <td>-0.327947</td>\n",
       "      <td>-1.231323</td>\n",
       "      <td>6.545389</td>\n",
       "      <td>-0.440997</td>\n",
       "    </tr>\n",
       "    <tr>\n",
       "      <th>575</th>\n",
       "      <td>-0.139029</td>\n",
       "      <td>-0.113093</td>\n",
       "      <td>-0.140957</td>\n",
       "      <td>-0.139559</td>\n",
       "      <td>-0.11789</td>\n",
       "      <td>-0.13567</td>\n",
       "      <td>-0.117656</td>\n",
       "      <td>-0.118316</td>\n",
       "      <td>-0.120759</td>\n",
       "      <td>-0.144834</td>\n",
       "      <td>...</td>\n",
       "      <td>-0.170625</td>\n",
       "      <td>0.949834</td>\n",
       "      <td>0.210897</td>\n",
       "      <td>-0.254358</td>\n",
       "      <td>0.708823</td>\n",
       "      <td>-0.074281</td>\n",
       "      <td>-0.001094</td>\n",
       "      <td>-0.026434</td>\n",
       "      <td>0.530978</td>\n",
       "      <td>0.688512</td>\n",
       "    </tr>\n",
       "  </tbody>\n",
       "</table>\n",
       "<p>5 rows × 80 columns</p>\n",
       "</div>"
      ],
      "text/plain": [
       "        attack       bag      body      bomb  building     burn  california  \\\n",
       "7250 -0.139029 -0.113093 -0.140957 -0.139559  -0.11789 -0.13567   -0.117656   \n",
       "6439  4.874942 -0.113093 -0.140957 -0.139559  -0.11789 -0.13567   -0.117656   \n",
       "4885 -0.139029 -0.113093 -0.140957 -0.139559  -0.11789 -0.13567   -0.117656   \n",
       "4115 -0.139029 -0.113093 -0.140957 -0.139559  -0.11789 -0.13567   -0.117656   \n",
       "575  -0.139029 -0.113093 -0.140957 -0.139559  -0.11789 -0.13567   -0.117656   \n",
       "\n",
       "           car     cause      come  ...      TIME   has_url  character_count  \\\n",
       "7250 -0.118316 -0.120759 -0.144834  ... -0.170625  0.949834        -0.658384   \n",
       "6439 -0.118316 -0.120759 -0.144834  ... -0.170625  0.949834         0.955996   \n",
       "4885 -0.118316 -0.120759 -0.144834  ... -0.170625  0.949834         0.210897   \n",
       "4115 -0.118316 -0.120759 -0.144834  ... -0.170625  0.949834        -0.782567   \n",
       "575  -0.118316 -0.120759 -0.144834  ... -0.170625  0.949834         0.210897   \n",
       "\n",
       "      sw_count  mean_lemma_length  lemma_count_no_sw  unique_lemmas_no_sw  \\\n",
       "7250 -1.081962           0.451311          -0.074281            -0.001094   \n",
       "6439  0.021510           0.592690           1.169246             1.306316   \n",
       "4885 -0.530226           0.662603           0.547482             0.652611   \n",
       "4115 -1.081962           0.451311          -0.385163            -0.327947   \n",
       "575  -0.254358           0.708823          -0.074281            -0.001094   \n",
       "\n",
       "      sw_proportion  hashtag_proportion  mention_proportion  \n",
       "7250      -1.311649            0.839409           -0.440997  \n",
       "6439      -0.253237           -0.394316           -0.440997  \n",
       "4885      -0.619610           -0.394316            1.644250  \n",
       "4115      -1.231323            6.545389           -0.440997  \n",
       "575       -0.026434            0.530978            0.688512  \n",
       "\n",
       "[5 rows x 80 columns]"
      ]
     },
     "execution_count": 91,
     "metadata": {},
     "output_type": "execute_result"
    }
   ],
   "source": [
    "tfidf = TfidfVectorizer(\n",
    "    tokenizer=spacy_lemmatize, stop_words=stopword_list_lem, max_features=50, \n",
    "    binary=True\n",
    "    )\n",
    "X_train_vec = tfidf.fit_transform(X_train['text'])\n",
    "X_train_vec_df = pd.DataFrame(\n",
    "    X_train_vec.toarray(), columns=tfidf.get_feature_names(), index=X_train.index\n",
    "    )\n",
    "\n",
    "X_train_combined_df = pd.concat(\n",
    "    [\n",
    "        X_train_vec_df, \n",
    "        pos_vectorized_df_train, \n",
    "        ner_vectorized_df_train, \n",
    "        meta_features_df_train,\n",
    "    ],\n",
    "    axis=1\n",
    "    )\n",
    "\n",
    "# Test\n",
    "\n",
    "X_test_vec = tfidf.transform(X_test['text'])\n",
    "X_test_vec_df = pd.DataFrame(\n",
    "    X_test_vec.toarray(), columns=tfidf.get_feature_names(), index=X_test.index\n",
    ")\n",
    "\n",
    "X_test_combined_df = pd.concat(\n",
    "    [\n",
    "        X_test_vec_df, \n",
    "        pos_vectorized_df_test, \n",
    "        ner_vectorized_df_test, \n",
    "        meta_features_df_test,\n",
    "    ],\n",
    "    axis=1\n",
    "    )\n",
    "\n",
    "# Val\n",
    "\n",
    "X_val_vec = tfidf.transform(X_val['text'])\n",
    "X_val_vec_df = pd.DataFrame(\n",
    "    X_val_vec.toarray(), columns=tfidf.get_feature_names(), index=X_val.index\n",
    ")\n",
    "\n",
    "X_val_combined_df = pd.concat(\n",
    "    [\n",
    "        X_val_vec_df, \n",
    "        pos_vectorized_df_val, \n",
    "        ner_vectorized_df_val, \n",
    "        meta_features_df_val,\n",
    "    ],\n",
    "    axis=1\n",
    "    )\n",
    "\n",
    "# Scaling all features\n",
    "\n",
    "scaler = StandardScaler()\n",
    "X_train_combined_df_scaled = scaler.fit_transform(X_train_combined_df)\n",
    "X_train_combined_df_scaled = pd.DataFrame(X_train_combined_df_scaled, index=X_train.index, columns=X_train_combined_df.columns)\n",
    "\n",
    "X_test_combined_df_scaled = scaler.transform(X_test_combined_df)\n",
    "X_test_combined_df_scaled = pd.DataFrame(X_test_combined_df_scaled, index=X_test.index, columns=X_test_combined_df.columns)\n",
    "\n",
    "X_val_combined_df_scaled = scaler.transform(X_val_combined_df)\n",
    "X_val_combined_df_scaled = pd.DataFrame(X_val_combined_df_scaled, index=X_val.index, columns=X_val_combined_df.columns)\n",
    "\n",
    "X_train_combined_df_scaled.head()"
   ]
  },
  {
   "cell_type": "code",
   "execution_count": 96,
   "metadata": {},
   "outputs": [],
   "source": [
    "###########################################################\n",
    "###########################################################"
   ]
  },
  {
   "cell_type": "code",
   "execution_count": 104,
   "metadata": {},
   "outputs": [
    {
     "data": {
      "text/plain": [
       "(4181, 80)"
      ]
     },
     "execution_count": 104,
     "metadata": {},
     "output_type": "execute_result"
    }
   ],
   "source": [
    "X_train_combined_df_scaled.shape"
   ]
  },
  {
   "cell_type": "code",
   "execution_count": 105,
   "metadata": {},
   "outputs": [
    {
     "name": "stdout",
     "output_type": "stream",
     "text": [
      "Epoch 1/100\n",
      "131/131 [==============================] - 1s 7ms/step - loss: 0.6841 - accuracy: 0.5587 - precision_8: 0.4816 - recall_8: 0.4398 - auc_8: 0.5765 - val_loss: 0.6506 - val_accuracy: 0.6442 - val_precision_8: 0.6328 - val_recall_8: 0.4484 - val_auc_8: 0.6635\n",
      "Epoch 2/100\n",
      "131/131 [==============================] - 0s 2ms/step - loss: 0.6364 - accuracy: 0.6506 - precision_8: 0.6334 - recall_8: 0.4308 - auc_8: 0.6805 - val_loss: 0.6185 - val_accuracy: 0.6793 - val_precision_8: 0.6830 - val_recall_8: 0.5008 - val_auc_8: 0.7221\n",
      "Epoch 3/100\n",
      "131/131 [==============================] - 0s 2ms/step - loss: 0.6077 - accuracy: 0.6862 - precision_8: 0.6840 - recall_8: 0.4924 - auc_8: 0.7256 - val_loss: 0.5961 - val_accuracy: 0.7059 - val_precision_8: 0.7089 - val_recall_8: 0.5581 - val_auc_8: 0.7480\n",
      "Epoch 4/100\n",
      "131/131 [==============================] - 0s 2ms/step - loss: 0.5863 - accuracy: 0.7001 - precision_8: 0.7010 - recall_8: 0.5188 - auc_8: 0.7490 - val_loss: 0.5812 - val_accuracy: 0.7152 - val_precision_8: 0.7090 - val_recall_8: 0.5941 - val_auc_8: 0.7628\n",
      "Epoch 5/100\n",
      "131/131 [==============================] - 0s 2ms/step - loss: 0.5711 - accuracy: 0.7061 - precision_8: 0.7020 - recall_8: 0.5412 - auc_8: 0.7633 - val_loss: 0.5699 - val_accuracy: 0.7209 - val_precision_8: 0.7135 - val_recall_8: 0.6072 - val_auc_8: 0.7736\n",
      "Epoch 6/100\n",
      "131/131 [==============================] - 0s 2ms/step - loss: 0.5596 - accuracy: 0.7135 - precision_8: 0.7048 - recall_8: 0.5658 - auc_8: 0.7742 - val_loss: 0.5626 - val_accuracy: 0.7253 - val_precision_8: 0.7280 - val_recall_8: 0.5957 - val_auc_8: 0.7795\n",
      "Epoch 7/100\n",
      "131/131 [==============================] - 0s 1ms/step - loss: 0.5507 - accuracy: 0.7187 - precision_8: 0.7152 - recall_8: 0.5669 - auc_8: 0.7826 - val_loss: 0.5583 - val_accuracy: 0.7217 - val_precision_8: 0.7234 - val_recall_8: 0.5908 - val_auc_8: 0.7826\n",
      "Epoch 8/100\n",
      "131/131 [==============================] - 0s 1ms/step - loss: 0.5436 - accuracy: 0.7230 - precision_8: 0.7194 - recall_8: 0.5759 - auc_8: 0.7891 - val_loss: 0.5557 - val_accuracy: 0.7217 - val_precision_8: 0.7243 - val_recall_8: 0.5892 - val_auc_8: 0.7852\n",
      "Epoch 9/100\n",
      "131/131 [==============================] - 0s 1ms/step - loss: 0.5376 - accuracy: 0.7281 - precision_8: 0.7247 - recall_8: 0.5854 - auc_8: 0.7943 - val_loss: 0.5539 - val_accuracy: 0.7310 - val_precision_8: 0.7278 - val_recall_8: 0.6170 - val_auc_8: 0.7867\n",
      "Epoch 10/100\n",
      "131/131 [==============================] - 0s 1ms/step - loss: 0.5318 - accuracy: 0.7307 - precision_8: 0.7271 - recall_8: 0.5910 - auc_8: 0.7993 - val_loss: 0.5526 - val_accuracy: 0.7303 - val_precision_8: 0.7247 - val_recall_8: 0.6203 - val_auc_8: 0.7879\n",
      "Epoch 11/100\n",
      "131/131 [==============================] - 0s 2ms/step - loss: 0.5271 - accuracy: 0.7348 - precision_8: 0.7309 - recall_8: 0.5994 - auc_8: 0.8041 - val_loss: 0.5516 - val_accuracy: 0.7317 - val_precision_8: 0.7283 - val_recall_8: 0.6187 - val_auc_8: 0.7889\n",
      "Epoch 12/100\n",
      "131/131 [==============================] - 0s 2ms/step - loss: 0.5227 - accuracy: 0.7362 - precision_8: 0.7342 - recall_8: 0.5989 - auc_8: 0.8077 - val_loss: 0.5510 - val_accuracy: 0.7317 - val_precision_8: 0.7158 - val_recall_8: 0.6432 - val_auc_8: 0.7896\n",
      "Epoch 13/100\n",
      "131/131 [==============================] - 0s 2ms/step - loss: 0.5184 - accuracy: 0.7393 - precision_8: 0.7350 - recall_8: 0.6090 - auc_8: 0.8112 - val_loss: 0.5509 - val_accuracy: 0.7303 - val_precision_8: 0.7080 - val_recall_8: 0.6547 - val_auc_8: 0.7902\n",
      "Epoch 14/100\n",
      "131/131 [==============================] - 0s 2ms/step - loss: 0.5145 - accuracy: 0.7419 - precision_8: 0.7350 - recall_8: 0.6185 - auc_8: 0.8146 - val_loss: 0.5502 - val_accuracy: 0.7367 - val_precision_8: 0.7319 - val_recall_8: 0.6301 - val_auc_8: 0.7907\n",
      "Epoch 15/100\n",
      "131/131 [==============================] - 0s 2ms/step - loss: 0.5106 - accuracy: 0.7486 - precision_8: 0.7447 - recall_8: 0.6258 - auc_8: 0.8181 - val_loss: 0.5496 - val_accuracy: 0.7324 - val_precision_8: 0.7196 - val_recall_8: 0.6383 - val_auc_8: 0.7909\n",
      "Epoch 16/100\n",
      "131/131 [==============================] - 0s 2ms/step - loss: 0.5069 - accuracy: 0.7489 - precision_8: 0.7455 - recall_8: 0.6252 - auc_8: 0.8213 - val_loss: 0.5496 - val_accuracy: 0.7331 - val_precision_8: 0.7242 - val_recall_8: 0.6318 - val_auc_8: 0.7918\n",
      "Epoch 17/100\n",
      "131/131 [==============================] - 0s 2ms/step - loss: 0.5030 - accuracy: 0.7548 - precision_8: 0.7503 - recall_8: 0.6381 - auc_8: 0.8246 - val_loss: 0.5503 - val_accuracy: 0.7360 - val_precision_8: 0.7406 - val_recall_8: 0.6121 - val_auc_8: 0.7921\n",
      "Epoch 18/100\n",
      "131/131 [==============================] - 0s 2ms/step - loss: 0.4992 - accuracy: 0.7575 - precision_8: 0.7586 - recall_8: 0.6336 - auc_8: 0.8278 - val_loss: 0.5498 - val_accuracy: 0.7403 - val_precision_8: 0.7219 - val_recall_8: 0.6628 - val_auc_8: 0.7922\n",
      "Epoch 19/100\n",
      "131/131 [==============================] - 0s 2ms/step - loss: 0.4961 - accuracy: 0.7608 - precision_8: 0.7594 - recall_8: 0.6437 - auc_8: 0.8300 - val_loss: 0.5507 - val_accuracy: 0.7389 - val_precision_8: 0.7133 - val_recall_8: 0.6759 - val_auc_8: 0.7917\n",
      "Epoch 20/100\n",
      "131/131 [==============================] - 0s 2ms/step - loss: 0.4919 - accuracy: 0.7627 - precision_8: 0.7570 - recall_8: 0.6543 - auc_8: 0.8335 - val_loss: 0.5499 - val_accuracy: 0.7396 - val_precision_8: 0.7263 - val_recall_8: 0.6514 - val_auc_8: 0.7919\n",
      "Epoch 21/100\n",
      "131/131 [==============================] - 0s 2ms/step - loss: 0.4882 - accuracy: 0.7661 - precision_8: 0.7660 - recall_8: 0.6510 - auc_8: 0.8369 - val_loss: 0.5510 - val_accuracy: 0.7389 - val_precision_8: 0.7380 - val_recall_8: 0.6268 - val_auc_8: 0.7926\n",
      "Epoch 22/100\n",
      "131/131 [==============================] - 0s 2ms/step - loss: 0.4852 - accuracy: 0.7682 - precision_8: 0.7684 - recall_8: 0.6543 - auc_8: 0.8386 - val_loss: 0.5506 - val_accuracy: 0.7389 - val_precision_8: 0.7266 - val_recall_8: 0.6481 - val_auc_8: 0.7927\n",
      "Epoch 23/100\n",
      "131/131 [==============================] - 0s 2ms/step - loss: 0.4812 - accuracy: 0.7706 - precision_8: 0.7699 - recall_8: 0.6599 - auc_8: 0.8416 - val_loss: 0.5513 - val_accuracy: 0.7382 - val_precision_8: 0.7085 - val_recall_8: 0.6841 - val_auc_8: 0.7923\n",
      "Epoch 24/100\n",
      "131/131 [==============================] - 0s 2ms/step - loss: 0.4778 - accuracy: 0.7718 - precision_8: 0.7686 - recall_8: 0.6661 - auc_8: 0.8441 - val_loss: 0.5536 - val_accuracy: 0.7367 - val_precision_8: 0.7061 - val_recall_8: 0.6841 - val_auc_8: 0.7913\n",
      "Epoch 25/100\n",
      "131/131 [==============================] - 0s 2ms/step - loss: 0.4743 - accuracy: 0.7766 - precision_8: 0.7747 - recall_8: 0.6723 - auc_8: 0.8474 - val_loss: 0.5530 - val_accuracy: 0.7389 - val_precision_8: 0.7194 - val_recall_8: 0.6628 - val_auc_8: 0.7916\n",
      "Epoch 26/100\n",
      "131/131 [==============================] - 0s 2ms/step - loss: 0.4709 - accuracy: 0.7776 - precision_8: 0.7753 - recall_8: 0.6745 - auc_8: 0.8493 - val_loss: 0.5543 - val_accuracy: 0.7389 - val_precision_8: 0.7308 - val_recall_8: 0.6399 - val_auc_8: 0.7905\n",
      "Epoch 27/100\n",
      "131/131 [==============================] - 0s 2ms/step - loss: 0.4669 - accuracy: 0.7790 - precision_8: 0.7765 - recall_8: 0.6773 - auc_8: 0.8527 - val_loss: 0.5552 - val_accuracy: 0.7396 - val_precision_8: 0.7385 - val_recall_8: 0.6285 - val_auc_8: 0.7912\n",
      "Epoch 28/100\n",
      "131/131 [==============================] - 0s 2ms/step - loss: 0.4632 - accuracy: 0.7833 - precision_8: 0.7848 - recall_8: 0.6784 - auc_8: 0.8555 - val_loss: 0.5548 - val_accuracy: 0.7346 - val_precision_8: 0.7096 - val_recall_8: 0.6678 - val_auc_8: 0.7907\n",
      "Epoch 29/100\n",
      "131/131 [==============================] - 0s 2ms/step - loss: 0.4598 - accuracy: 0.7840 - precision_8: 0.7845 - recall_8: 0.6812 - auc_8: 0.8578 - val_loss: 0.5569 - val_accuracy: 0.7339 - val_precision_8: 0.7041 - val_recall_8: 0.6776 - val_auc_8: 0.7902\n",
      "Epoch 30/100\n",
      "131/131 [==============================] - 0s 2ms/step - loss: 0.4564 - accuracy: 0.7864 - precision_8: 0.7834 - recall_8: 0.6908 - auc_8: 0.8601 - val_loss: 0.5576 - val_accuracy: 0.7360 - val_precision_8: 0.7113 - val_recall_8: 0.6694 - val_auc_8: 0.7889\n",
      "Epoch 31/100\n",
      "131/131 [==============================] - 0s 2ms/step - loss: 0.4530 - accuracy: 0.7862 - precision_8: 0.7850 - recall_8: 0.6874 - auc_8: 0.8625 - val_loss: 0.5575 - val_accuracy: 0.7317 - val_precision_8: 0.7090 - val_recall_8: 0.6579 - val_auc_8: 0.7888\n",
      "Epoch 32/100\n",
      "131/131 [==============================] - 0s 2ms/step - loss: 0.4492 - accuracy: 0.7914 - precision_8: 0.7921 - recall_8: 0.6936 - auc_8: 0.8651 - val_loss: 0.5620 - val_accuracy: 0.7324 - val_precision_8: 0.7333 - val_recall_8: 0.6121 - val_auc_8: 0.7881\n",
      "Epoch 33/100\n",
      "131/131 [==============================] - 0s 2ms/step - loss: 0.4453 - accuracy: 0.7957 - precision_8: 0.7971 - recall_8: 0.6997 - auc_8: 0.8684 - val_loss: 0.5616 - val_accuracy: 0.7403 - val_precision_8: 0.7243 - val_recall_8: 0.6579 - val_auc_8: 0.7888\n",
      "Epoch 34/100\n",
      "131/131 [==============================] - 0s 2ms/step - loss: 0.4414 - accuracy: 0.7936 - precision_8: 0.7925 - recall_8: 0.6997 - auc_8: 0.8707 - val_loss: 0.5633 - val_accuracy: 0.7396 - val_precision_8: 0.7183 - val_recall_8: 0.6678 - val_auc_8: 0.7891\n",
      "Epoch 35/100\n",
      "131/131 [==============================] - 0s 2ms/step - loss: 0.4379 - accuracy: 0.7981 - precision_8: 0.7984 - recall_8: 0.7053 - auc_8: 0.8730 - val_loss: 0.5644 - val_accuracy: 0.7281 - val_precision_8: 0.7049 - val_recall_8: 0.6530 - val_auc_8: 0.7878\n",
      "Epoch 36/100\n",
      "131/131 [==============================] - 0s 2ms/step - loss: 0.4336 - accuracy: 0.8005 - precision_8: 0.8023 - recall_8: 0.7070 - auc_8: 0.8755 - val_loss: 0.5672 - val_accuracy: 0.7310 - val_precision_8: 0.7122 - val_recall_8: 0.6481 - val_auc_8: 0.7857\n",
      "Epoch 37/100\n",
      "131/131 [==============================] - 0s 2ms/step - loss: 0.4298 - accuracy: 0.8022 - precision_8: 0.8039 - recall_8: 0.7098 - auc_8: 0.8792 - val_loss: 0.5718 - val_accuracy: 0.7310 - val_precision_8: 0.7100 - val_recall_8: 0.6530 - val_auc_8: 0.7868\n",
      "Epoch 38/100\n",
      "131/131 [==============================] - 0s 2ms/step - loss: 0.4257 - accuracy: 0.8051 - precision_8: 0.8101 - recall_8: 0.7098 - auc_8: 0.8810 - val_loss: 0.5712 - val_accuracy: 0.7324 - val_precision_8: 0.7156 - val_recall_8: 0.6465 - val_auc_8: 0.7851\n",
      "Epoch 39/100\n",
      "131/131 [==============================] - 0s 2ms/step - loss: 0.4212 - accuracy: 0.8048 - precision_8: 0.8068 - recall_8: 0.7137 - auc_8: 0.8836 - val_loss: 0.5744 - val_accuracy: 0.7209 - val_precision_8: 0.6982 - val_recall_8: 0.6399 - val_auc_8: 0.7824\n",
      "Epoch 40/100\n",
      "131/131 [==============================] - 0s 2ms/step - loss: 0.4179 - accuracy: 0.8065 - precision_8: 0.8120 - recall_8: 0.7115 - auc_8: 0.8859 - val_loss: 0.5785 - val_accuracy: 0.7296 - val_precision_8: 0.6983 - val_recall_8: 0.6743 - val_auc_8: 0.7814\n",
      "Epoch 41/100\n",
      "131/131 [==============================] - 0s 2ms/step - loss: 0.4132 - accuracy: 0.8099 - precision_8: 0.8125 - recall_8: 0.7210 - auc_8: 0.8893 - val_loss: 0.5798 - val_accuracy: 0.7296 - val_precision_8: 0.6970 - val_recall_8: 0.6776 - val_auc_8: 0.7832\n",
      "Epoch 42/100\n",
      "131/131 [==============================] - 0s 2ms/step - loss: 0.4081 - accuracy: 0.8134 - precision_8: 0.8158 - recall_8: 0.7272 - auc_8: 0.8924 - val_loss: 0.5818 - val_accuracy: 0.7310 - val_precision_8: 0.6993 - val_recall_8: 0.6776 - val_auc_8: 0.7843\n",
      "Epoch 43/100\n",
      "131/131 [==============================] - 0s 2ms/step - loss: 0.4054 - accuracy: 0.8142 - precision_8: 0.8202 - recall_8: 0.7232 - auc_8: 0.8933 - val_loss: 0.5834 - val_accuracy: 0.7260 - val_precision_8: 0.6991 - val_recall_8: 0.6579 - val_auc_8: 0.7813\n",
      "Epoch 44/100\n",
      "131/131 [==============================] - 0s 2ms/step - loss: 0.4009 - accuracy: 0.8151 - precision_8: 0.8178 - recall_8: 0.7294 - auc_8: 0.8961 - val_loss: 0.5852 - val_accuracy: 0.7288 - val_precision_8: 0.7114 - val_recall_8: 0.6416 - val_auc_8: 0.7810\n",
      "Epoch 45/100\n",
      "131/131 [==============================] - 0s 2ms/step - loss: 0.3954 - accuracy: 0.8249 - precision_8: 0.8351 - recall_8: 0.7350 - auc_8: 0.9000 - val_loss: 0.5914 - val_accuracy: 0.7274 - val_precision_8: 0.7135 - val_recall_8: 0.6318 - val_auc_8: 0.7806\n",
      "Epoch 46/100\n",
      "131/131 [==============================] - 0s 2ms/step - loss: 0.3913 - accuracy: 0.8252 - precision_8: 0.8294 - recall_8: 0.7434 - auc_8: 0.9021 - val_loss: 0.5994 - val_accuracy: 0.7231 - val_precision_8: 0.7168 - val_recall_8: 0.6088 - val_auc_8: 0.7773\n",
      "Epoch 47/100\n",
      "131/131 [==============================] - 0s 2ms/step - loss: 0.3882 - accuracy: 0.8223 - precision_8: 0.8297 - recall_8: 0.7345 - auc_8: 0.9038 - val_loss: 0.6007 - val_accuracy: 0.7367 - val_precision_8: 0.7111 - val_recall_8: 0.6727 - val_auc_8: 0.7794\n",
      "Epoch 48/100\n",
      "131/131 [==============================] - 0s 2ms/step - loss: 0.3827 - accuracy: 0.8271 - precision_8: 0.8302 - recall_8: 0.7479 - auc_8: 0.9065 - val_loss: 0.6056 - val_accuracy: 0.7274 - val_precision_8: 0.7016 - val_recall_8: 0.6579 - val_auc_8: 0.7750\n",
      "Epoch 49/100\n",
      "131/131 [==============================] - 0s 2ms/step - loss: 0.3790 - accuracy: 0.8307 - precision_8: 0.8393 - recall_8: 0.7462 - auc_8: 0.9091 - val_loss: 0.6103 - val_accuracy: 0.7274 - val_precision_8: 0.7059 - val_recall_8: 0.6481 - val_auc_8: 0.7754\n",
      "Epoch 50/100\n",
      "131/131 [==============================] - 0s 2ms/step - loss: 0.3744 - accuracy: 0.8283 - precision_8: 0.8366 - recall_8: 0.7429 - auc_8: 0.9106 - val_loss: 0.6089 - val_accuracy: 0.7260 - val_precision_8: 0.7101 - val_recall_8: 0.6334 - val_auc_8: 0.7757\n",
      "Epoch 51/100\n",
      "131/131 [==============================] - 0s 2ms/step - loss: 0.3696 - accuracy: 0.8347 - precision_8: 0.8423 - recall_8: 0.7541 - auc_8: 0.9139 - val_loss: 0.6158 - val_accuracy: 0.7188 - val_precision_8: 0.6885 - val_recall_8: 0.6547 - val_auc_8: 0.7738\n",
      "Epoch 52/100\n",
      "131/131 [==============================] - 0s 2ms/step - loss: 0.3662 - accuracy: 0.8383 - precision_8: 0.8494 - recall_8: 0.7552 - auc_8: 0.9160 - val_loss: 0.6194 - val_accuracy: 0.7260 - val_precision_8: 0.7140 - val_recall_8: 0.6252 - val_auc_8: 0.7731\n",
      "Epoch 53/100\n",
      "131/131 [==============================] - 0s 2ms/step - loss: 0.3618 - accuracy: 0.8364 - precision_8: 0.8473 - recall_8: 0.7524 - auc_8: 0.9177 - val_loss: 0.6235 - val_accuracy: 0.7217 - val_precision_8: 0.7092 - val_recall_8: 0.6187 - val_auc_8: 0.7723\n",
      "Epoch 54/100\n",
      "131/131 [==============================] - 0s 2ms/step - loss: 0.3579 - accuracy: 0.8417 - precision_8: 0.8507 - recall_8: 0.7630 - auc_8: 0.9196 - val_loss: 0.6309 - val_accuracy: 0.7274 - val_precision_8: 0.7089 - val_recall_8: 0.6416 - val_auc_8: 0.7733\n",
      "Epoch 55/100\n",
      "131/131 [==============================] - 0s 2ms/step - loss: 0.3526 - accuracy: 0.8455 - precision_8: 0.8548 - recall_8: 0.7686 - auc_8: 0.9221 - val_loss: 0.6389 - val_accuracy: 0.7159 - val_precision_8: 0.6807 - val_recall_8: 0.6628 - val_auc_8: 0.7690\n",
      "Epoch 56/100\n",
      "131/131 [==============================] - 0s 2ms/step - loss: 0.3488 - accuracy: 0.8460 - precision_8: 0.8563 - recall_8: 0.7681 - auc_8: 0.9239 - val_loss: 0.6452 - val_accuracy: 0.7166 - val_precision_8: 0.7134 - val_recall_8: 0.5908 - val_auc_8: 0.7633\n",
      "Epoch 57/100\n",
      "131/131 [==============================] - 0s 2ms/step - loss: 0.3442 - accuracy: 0.8505 - precision_8: 0.8652 - recall_8: 0.7697 - auc_8: 0.9272 - val_loss: 0.6465 - val_accuracy: 0.7267 - val_precision_8: 0.7046 - val_recall_8: 0.6481 - val_auc_8: 0.7716\n",
      "Epoch 58/100\n",
      "131/131 [==============================] - 0s 2ms/step - loss: 0.3407 - accuracy: 0.8476 - precision_8: 0.8561 - recall_8: 0.7731 - auc_8: 0.9277 - val_loss: 0.6567 - val_accuracy: 0.7159 - val_precision_8: 0.6903 - val_recall_8: 0.6383 - val_auc_8: 0.7654\n",
      "Epoch 59/100\n",
      "131/131 [==============================] - 0s 2ms/step - loss: 0.3353 - accuracy: 0.8551 - precision_8: 0.8673 - recall_8: 0.7798 - auc_8: 0.9308 - val_loss: 0.6628 - val_accuracy: 0.7073 - val_precision_8: 0.6683 - val_recall_8: 0.6596 - val_auc_8: 0.7646\n",
      "Epoch 60/100\n",
      "131/131 [==============================] - 0s 2ms/step - loss: 0.3314 - accuracy: 0.8558 - precision_8: 0.8671 - recall_8: 0.7821 - auc_8: 0.9324 - val_loss: 0.6654 - val_accuracy: 0.7166 - val_precision_8: 0.6782 - val_recall_8: 0.6727 - val_auc_8: 0.7688\n",
      "Epoch 61/100\n",
      "131/131 [==============================] - 0s 2ms/step - loss: 0.3280 - accuracy: 0.8543 - precision_8: 0.8643 - recall_8: 0.7815 - auc_8: 0.9336 - val_loss: 0.6808 - val_accuracy: 0.7009 - val_precision_8: 0.6606 - val_recall_8: 0.6530 - val_auc_8: 0.7591\n",
      "Epoch 62/100\n",
      "131/131 [==============================] - 0s 2ms/step - loss: 0.3229 - accuracy: 0.8591 - precision_8: 0.8660 - recall_8: 0.7927 - auc_8: 0.9362 - val_loss: 0.6750 - val_accuracy: 0.7217 - val_precision_8: 0.6966 - val_recall_8: 0.6465 - val_auc_8: 0.7641\n",
      "Epoch 63/100\n",
      "131/131 [==============================] - 0s 2ms/step - loss: 0.3183 - accuracy: 0.8656 - precision_8: 0.8768 - recall_8: 0.7972 - auc_8: 0.9387 - val_loss: 0.6981 - val_accuracy: 0.6973 - val_precision_8: 0.6567 - val_recall_8: 0.6481 - val_auc_8: 0.7540\n",
      "Epoch 64/100\n",
      "131/131 [==============================] - 0s 2ms/step - loss: 0.3149 - accuracy: 0.8627 - precision_8: 0.8712 - recall_8: 0.7961 - auc_8: 0.9397 - val_loss: 0.6989 - val_accuracy: 0.7023 - val_precision_8: 0.6678 - val_recall_8: 0.6383 - val_auc_8: 0.7551\n",
      "Epoch 65/100\n",
      "131/131 [==============================] - 0s 2ms/step - loss: 0.3095 - accuracy: 0.8668 - precision_8: 0.8785 - recall_8: 0.7983 - auc_8: 0.9425 - val_loss: 0.6961 - val_accuracy: 0.7109 - val_precision_8: 0.6775 - val_recall_8: 0.6498 - val_auc_8: 0.7611\n",
      "Epoch 66/100\n",
      "131/131 [==============================] - 0s 2ms/step - loss: 0.3059 - accuracy: 0.8706 - precision_8: 0.8807 - recall_8: 0.8062 - auc_8: 0.9436 - val_loss: 0.7076 - val_accuracy: 0.7095 - val_precision_8: 0.6764 - val_recall_8: 0.6465 - val_auc_8: 0.7584\n",
      "Epoch 67/100\n",
      "131/131 [==============================] - 0s 2ms/step - loss: 0.3020 - accuracy: 0.8701 - precision_8: 0.8800 - recall_8: 0.8056 - auc_8: 0.9451 - val_loss: 0.7279 - val_accuracy: 0.6980 - val_precision_8: 0.6518 - val_recall_8: 0.6678 - val_auc_8: 0.7496\n",
      "Epoch 68/100\n",
      "131/131 [==============================] - 0s 2ms/step - loss: 0.2978 - accuracy: 0.8756 - precision_8: 0.8912 - recall_8: 0.8073 - auc_8: 0.9472 - val_loss: 0.7148 - val_accuracy: 0.7052 - val_precision_8: 0.6639 - val_recall_8: 0.6628 - val_auc_8: 0.7580\n",
      "Epoch 69/100\n",
      "131/131 [==============================] - 0s 2ms/step - loss: 0.2942 - accuracy: 0.8744 - precision_8: 0.8827 - recall_8: 0.8140 - auc_8: 0.9483 - val_loss: 0.7218 - val_accuracy: 0.7145 - val_precision_8: 0.6919 - val_recall_8: 0.6285 - val_auc_8: 0.7566\n",
      "Epoch 70/100\n",
      "131/131 [==============================] - 0s 1ms/step - loss: 0.2900 - accuracy: 0.8780 - precision_8: 0.8885 - recall_8: 0.8168 - auc_8: 0.9498 - val_loss: 0.7436 - val_accuracy: 0.7052 - val_precision_8: 0.6689 - val_recall_8: 0.6481 - val_auc_8: 0.7458\n",
      "Epoch 71/100\n",
      "131/131 [==============================] - 0s 1ms/step - loss: 0.2836 - accuracy: 0.8828 - precision_8: 0.8941 - recall_8: 0.8230 - auc_8: 0.9527 - val_loss: 0.7421 - val_accuracy: 0.7037 - val_precision_8: 0.6547 - val_recall_8: 0.6858 - val_auc_8: 0.7558\n",
      "Epoch 72/100\n",
      "131/131 [==============================] - 0s 2ms/step - loss: 0.2814 - accuracy: 0.8799 - precision_8: 0.8853 - recall_8: 0.8258 - auc_8: 0.9529 - val_loss: 0.7500 - val_accuracy: 0.7116 - val_precision_8: 0.7086 - val_recall_8: 0.5810 - val_auc_8: 0.7485\n",
      "Epoch 73/100\n",
      "131/131 [==============================] - 0s 2ms/step - loss: 0.2777 - accuracy: 0.8857 - precision_8: 0.8987 - recall_8: 0.8252 - auc_8: 0.9554 - val_loss: 0.7588 - val_accuracy: 0.7095 - val_precision_8: 0.6914 - val_recall_8: 0.6088 - val_auc_8: 0.7536\n",
      "Epoch 74/100\n",
      "131/131 [==============================] - 0s 2ms/step - loss: 0.2727 - accuracy: 0.8878 - precision_8: 0.9017 - recall_8: 0.8275 - auc_8: 0.9561 - val_loss: 0.7700 - val_accuracy: 0.7016 - val_precision_8: 0.6596 - val_recall_8: 0.6596 - val_auc_8: 0.7504\n",
      "Epoch 75/100\n",
      "131/131 [==============================] - 0s 2ms/step - loss: 0.2700 - accuracy: 0.8881 - precision_8: 0.8984 - recall_8: 0.8319 - auc_8: 0.9571 - val_loss: 0.7813 - val_accuracy: 0.7073 - val_precision_8: 0.6816 - val_recall_8: 0.6236 - val_auc_8: 0.7429\n",
      "Epoch 76/100\n",
      "131/131 [==============================] - 0s 2ms/step - loss: 0.2634 - accuracy: 0.8914 - precision_8: 0.9060 - recall_8: 0.8319 - auc_8: 0.9602 - val_loss: 0.7854 - val_accuracy: 0.7116 - val_precision_8: 0.6750 - val_recall_8: 0.6596 - val_auc_8: 0.7512\n",
      "Epoch 77/100\n",
      "131/131 [==============================] - 0s 2ms/step - loss: 0.2634 - accuracy: 0.8900 - precision_8: 0.8989 - recall_8: 0.8364 - auc_8: 0.9597 - val_loss: 0.7910 - val_accuracy: 0.7088 - val_precision_8: 0.6758 - val_recall_8: 0.6448 - val_auc_8: 0.7432\n",
      "Epoch 78/100\n",
      "131/131 [==============================] - 0s 2ms/step - loss: 0.2583 - accuracy: 0.8948 - precision_8: 0.9063 - recall_8: 0.8403 - auc_8: 0.9612 - val_loss: 0.8221 - val_accuracy: 0.7016 - val_precision_8: 0.6585 - val_recall_8: 0.6628 - val_auc_8: 0.7437\n",
      "Epoch 79/100\n",
      "131/131 [==============================] - 0s 2ms/step - loss: 0.2545 - accuracy: 0.8931 - precision_8: 0.9020 - recall_8: 0.8409 - auc_8: 0.9627 - val_loss: 0.8071 - val_accuracy: 0.7073 - val_precision_8: 0.6717 - val_recall_8: 0.6498 - val_auc_8: 0.7495\n",
      "Epoch 80/100\n",
      "131/131 [==============================] - 0s 2ms/step - loss: 0.2514 - accuracy: 0.8964 - precision_8: 0.9067 - recall_8: 0.8443 - auc_8: 0.9634 - val_loss: 0.8348 - val_accuracy: 0.6908 - val_precision_8: 0.6557 - val_recall_8: 0.6203 - val_auc_8: 0.7355\n",
      "Epoch 81/100\n",
      "131/131 [==============================] - 0s 2ms/step - loss: 0.2481 - accuracy: 0.8986 - precision_8: 0.9092 - recall_8: 0.8471 - auc_8: 0.9646 - val_loss: 0.8345 - val_accuracy: 0.7023 - val_precision_8: 0.6565 - val_recall_8: 0.6727 - val_auc_8: 0.7489\n",
      "Epoch 82/100\n",
      "131/131 [==============================] - 0s 1ms/step - loss: 0.2444 - accuracy: 0.8967 - precision_8: 0.9039 - recall_8: 0.8482 - auc_8: 0.9657 - val_loss: 0.8448 - val_accuracy: 0.6994 - val_precision_8: 0.6595 - val_recall_8: 0.6498 - val_auc_8: 0.7451\n",
      "Epoch 83/100\n",
      "131/131 [==============================] - 0s 2ms/step - loss: 0.2415 - accuracy: 0.8993 - precision_8: 0.9108 - recall_8: 0.8471 - auc_8: 0.9663 - val_loss: 0.8586 - val_accuracy: 0.6994 - val_precision_8: 0.6600 - val_recall_8: 0.6481 - val_auc_8: 0.7395\n",
      "Epoch 84/100\n",
      "131/131 [==============================] - 0s 1ms/step - loss: 0.2389 - accuracy: 0.9043 - precision_8: 0.9154 - recall_8: 0.8549 - auc_8: 0.9672 - val_loss: 0.8651 - val_accuracy: 0.7016 - val_precision_8: 0.6617 - val_recall_8: 0.6530 - val_auc_8: 0.7399\n",
      "Epoch 85/100\n",
      "131/131 [==============================] - 0s 1ms/step - loss: 0.2338 - accuracy: 0.9050 - precision_8: 0.9141 - recall_8: 0.8583 - auc_8: 0.9688 - val_loss: 0.9028 - val_accuracy: 0.6779 - val_precision_8: 0.6254 - val_recall_8: 0.6612 - val_auc_8: 0.7306\n",
      "Epoch 86/100\n",
      "131/131 [==============================] - 0s 1ms/step - loss: 0.2315 - accuracy: 0.9072 - precision_8: 0.9160 - recall_8: 0.8616 - auc_8: 0.9692 - val_loss: 0.8782 - val_accuracy: 0.7001 - val_precision_8: 0.6627 - val_recall_8: 0.6432 - val_auc_8: 0.7390\n",
      "Epoch 87/100\n",
      "131/131 [==============================] - 0s 1ms/step - loss: 0.2246 - accuracy: 0.9089 - precision_8: 0.9164 - recall_8: 0.8655 - auc_8: 0.9718 - val_loss: 0.8904 - val_accuracy: 0.6973 - val_precision_8: 0.6578 - val_recall_8: 0.6448 - val_auc_8: 0.7353\n",
      "Epoch 88/100\n",
      "131/131 [==============================] - 0s 2ms/step - loss: 0.2264 - accuracy: 0.9091 - precision_8: 0.9130 - recall_8: 0.8700 - auc_8: 0.9708 - val_loss: 0.8899 - val_accuracy: 0.7030 - val_precision_8: 0.6781 - val_recall_8: 0.6137 - val_auc_8: 0.7358\n",
      "Epoch 89/100\n",
      "131/131 [==============================] - 0s 2ms/step - loss: 0.2234 - accuracy: 0.9103 - precision_8: 0.9227 - recall_8: 0.8622 - auc_8: 0.9720 - val_loss: 0.9262 - val_accuracy: 0.7009 - val_precision_8: 0.6633 - val_recall_8: 0.6448 - val_auc_8: 0.7372\n",
      "Epoch 90/100\n",
      "131/131 [==============================] - 0s 2ms/step - loss: 0.2179 - accuracy: 0.9168 - precision_8: 0.9239 - recall_8: 0.8773 - auc_8: 0.9733 - val_loss: 0.9149 - val_accuracy: 0.7052 - val_precision_8: 0.6773 - val_recall_8: 0.6252 - val_auc_8: 0.7406\n",
      "Epoch 91/100\n",
      "131/131 [==============================] - 0s 2ms/step - loss: 0.2161 - accuracy: 0.9139 - precision_8: 0.9209 - recall_8: 0.8734 - auc_8: 0.9737 - val_loss: 0.9318 - val_accuracy: 0.7016 - val_precision_8: 0.6678 - val_recall_8: 0.6350 - val_auc_8: 0.7307\n",
      "Epoch 92/100\n",
      "131/131 [==============================] - 0s 2ms/step - loss: 0.2121 - accuracy: 0.9180 - precision_8: 0.9261 - recall_8: 0.8779 - auc_8: 0.9750 - val_loss: 0.9505 - val_accuracy: 0.6901 - val_precision_8: 0.6455 - val_recall_8: 0.6498 - val_auc_8: 0.7346\n",
      "Epoch 93/100\n",
      "131/131 [==============================] - 0s 2ms/step - loss: 0.2107 - accuracy: 0.9175 - precision_8: 0.9230 - recall_8: 0.8801 - auc_8: 0.9749 - val_loss: 0.9441 - val_accuracy: 0.7009 - val_precision_8: 0.6580 - val_recall_8: 0.6612 - val_auc_8: 0.7397\n",
      "Epoch 94/100\n",
      "131/131 [==============================] - 0s 2ms/step - loss: 0.2068 - accuracy: 0.9223 - precision_8: 0.9294 - recall_8: 0.8852 - auc_8: 0.9764 - val_loss: 0.9673 - val_accuracy: 0.7059 - val_precision_8: 0.6798 - val_recall_8: 0.6219 - val_auc_8: 0.7311\n",
      "Epoch 95/100\n",
      "131/131 [==============================] - 0s 2ms/step - loss: 0.2036 - accuracy: 0.9180 - precision_8: 0.9256 - recall_8: 0.8784 - auc_8: 0.9768 - val_loss: 0.9763 - val_accuracy: 0.7073 - val_precision_8: 0.6672 - val_recall_8: 0.6628 - val_auc_8: 0.7389\n",
      "Epoch 96/100\n",
      "131/131 [==============================] - 0s 2ms/step - loss: 0.2020 - accuracy: 0.9196 - precision_8: 0.9295 - recall_8: 0.8784 - auc_8: 0.9771 - val_loss: 1.0071 - val_accuracy: 0.6801 - val_precision_8: 0.6401 - val_recall_8: 0.6170 - val_auc_8: 0.7275\n",
      "Epoch 97/100\n",
      "131/131 [==============================] - 0s 2ms/step - loss: 0.2006 - accuracy: 0.9227 - precision_8: 0.9300 - recall_8: 0.8857 - auc_8: 0.9773 - val_loss: 1.0054 - val_accuracy: 0.6865 - val_precision_8: 0.6426 - val_recall_8: 0.6416 - val_auc_8: 0.7237\n",
      "Epoch 98/100\n",
      "131/131 [==============================] - 0s 2ms/step - loss: 0.1964 - accuracy: 0.9218 - precision_8: 0.9309 - recall_8: 0.8824 - auc_8: 0.9785 - val_loss: 0.9936 - val_accuracy: 0.7030 - val_precision_8: 0.6655 - val_recall_8: 0.6481 - val_auc_8: 0.7334\n",
      "Epoch 99/100\n",
      "131/131 [==============================] - 0s 2ms/step - loss: 0.1958 - accuracy: 0.9225 - precision_8: 0.9310 - recall_8: 0.8840 - auc_8: 0.9783 - val_loss: 1.0532 - val_accuracy: 0.6879 - val_precision_8: 0.6279 - val_recall_8: 0.7070 - val_auc_8: 0.7318\n",
      "Epoch 100/100\n",
      "131/131 [==============================] - 0s 1ms/step - loss: 0.1936 - accuracy: 0.9251 - precision_8: 0.9304 - recall_8: 0.8913 - auc_8: 0.9788 - val_loss: 1.0084 - val_accuracy: 0.6915 - val_precision_8: 0.6667 - val_recall_8: 0.5925 - val_auc_8: 0.7347\n"
     ]
    }
   ],
   "source": [
    "precision = Precision()\n",
    "recall = Recall()\n",
    "auc = AUC()\n",
    "# f1 ?\n",
    "\n",
    "model = models.Sequential()\n",
    "\n",
    "model.add(layer=layers.Dense(\n",
    "        units=80,\n",
    "        activation='relu',\n",
    "        input_shape=(X_train_combined_df_scaled.shape[1],)\n",
    "    ))\n",
    "\n",
    "model.add(layer=layers.Dense(\n",
    "    units=60,\n",
    "    activation='relu',\n",
    "))\n",
    "\n",
    "model.add(layer=layers.Dense(\n",
    "    units=10,\n",
    "    activation='relu',\n",
    "))\n",
    "\n",
    "model.add(layer=layers.Dense(\n",
    "    units=1,\n",
    "    activation='sigmoid',\n",
    "))\n",
    "\n",
    "model.compile(\n",
    "    optimizer='SGD',\n",
    "    loss='binary_crossentropy',\n",
    "    metrics=['accuracy', precision, recall, auc]\n",
    ")\n",
    "\n",
    "model_val = model.fit(\n",
    "    np.array(X_train_combined_df_scaled),\n",
    "    np.array(y_train),\n",
    "    epochs=100,\n",
    "    batch_size=32,\n",
    "    validation_data=(X_val_combined_df_scaled, y_val)\n",
    ")"
   ]
  },
  {
   "cell_type": "code",
   "execution_count": 106,
   "metadata": {},
   "outputs": [
    {
     "data": {
      "image/png": "[encoded data removed]",
      "text/plain": [
       "<Figure size 1296x864 with 6 Axes>"
      ]
     },
     "metadata": {
      "needs_background": "light"
     },
     "output_type": "display_data"
    }
   ],
   "source": [
    "# Visualizing NN\n",
    "\n",
    "fig, axes = plt.subplots(nrows=3, ncols=2, figsize=(18,12))\n",
    "fl_ax = axes.flatten()\n",
    "for idx, metric in enumerate(['loss', 'accuracy', 'precision', 'recall', 'auc']):\n",
    "    pair = [m for m in model_val.history.keys() if metric in m]\n",
    "    fl_ax[idx].plot(model_val.history[pair[0]], label=metric)\n",
    "    fl_ax[idx].plot(model_val.history[pair[1]], label=metric+'_val')\n",
    "    fl_ax[idx].set_xlabel('epochs')\n",
    "    fl_ax[idx].set_ylabel(metric)\n",
    "    fl_ax[idx].set_title(f'{metric.upper()} Evaluation')\n",
    "    fl_ax[idx].legend()\n",
    "    plt.tight_layout();"
   ]
  },
  {
   "cell_type": "code",
   "execution_count": 103,
   "metadata": {},
   "outputs": [],
   "source": [
    "##############################################\n",
    "##############################################"
   ]
  },
  {
   "cell_type": "code",
   "execution_count": 107,
   "metadata": {},
   "outputs": [
    {
     "data": {
      "text/plain": [
       "array([0.53221289, 0.59943978, 0.58823529, 0.59943978, 0.55462185])"
      ]
     },
     "execution_count": 107,
     "metadata": {},
     "output_type": "execute_result"
    }
   ],
   "source": [
    "some_model = RandomForestClassifier()\n",
    "cross_val_score(some_model, X_train_combined_df_scaled, y_train, cv=5, scoring='recall')"
   ]
  },
  {
   "cell_type": "code",
   "execution_count": 108,
   "metadata": {},
   "outputs": [
    {
     "data": {
      "text/plain": [
       "RandomForestClassifier()"
      ]
     },
     "execution_count": 108,
     "metadata": {},
     "output_type": "execute_result"
    }
   ],
   "source": [
    "some_model.fit(X_train_combined_df_scaled, y_train)"
   ]
  },
  {
   "cell_type": "code",
   "execution_count": 109,
   "metadata": {},
   "outputs": [
    {
     "data": {
      "text/plain": [
       "[('mean_lemma_length', 0.0844794642889291),\n",
       " ('character_count', 0.0767787185262907),\n",
       " ('sw_proportion', 0.059331243575906474),\n",
       " ('NOUN', 0.04385751163298538),\n",
       " ('unique_lemmas_no_sw', 0.042790150652474906),\n",
       " ('lemma_count_no_sw', 0.042679785900964703),\n",
       " ('sw_count', 0.038080333361380406),\n",
       " ('ADP', 0.03739118170935731),\n",
       " ('PROPN', 0.03569268385657692),\n",
       " ('PRON', 0.03381311893957986),\n",
       " ('mention_proportion', 0.0314525373386702),\n",
       " ('has_url', 0.03119387470694681),\n",
       " ('VERB', 0.03057972503158465),\n",
       " ('ADJ', 0.028309367640846555),\n",
       " ('hashtag_proportion', 0.027992095172147815),\n",
       " ('GPE', 0.025148221865103536),\n",
       " ('AUX', 0.02141614574362326),\n",
       " ('DET', 0.02069131762225124),\n",
       " ('ADV', 0.019875844850716723),\n",
       " ('PART', 0.015814151341010396),\n",
       " ('fire', 0.014663048856978299),\n",
       " ('CCONJ', 0.014062163098131752),\n",
       " ('SCONJ', 0.012007797527231317),\n",
       " ('ORG', 0.008902769199929496),\n",
       " ('kill', 0.008337320732938448),\n",
       " ('like', 0.008145341345007983),\n",
       " ('NORP', 0.007103302950464423),\n",
       " ('INTJ', 0.006309683009404069),\n",
       " ('new', 0.006206887257656871),\n",
       " ('DATE', 0.005798013142862807),\n",
       " ('crash', 0.005434781113528071),\n",
       " ('NUM', 0.005286005467222801),\n",
       " ('suicide', 0.005249828384226862),\n",
       " ('TIME', 0.005170337819961338),\n",
       " ('news', 0.004977320042281869),\n",
       " ('bomb', 0.004434297738955247),\n",
       " ('storm', 0.004376188473436471),\n",
       " ('emergency', 0.004289066982121794),\n",
       " ('death', 0.004261280301158471),\n",
       " ('body', 0.004191091992982535),\n",
       " ('home', 0.004146938875886609),\n",
       " ('california', 0.004083771614871197),\n",
       " ('building', 0.004070818166839395),\n",
       " ('bag', 0.004008856054643657),\n",
       " ('come', 0.003927042762188595),\n",
       " ('disaster', 0.003875885635394106),\n",
       " ('people', 0.0038145486544452767),\n",
       " ('family', 0.003590810081849829),\n",
       " ('flood', 0.0034448700421733053),\n",
       " ('youtube', 0.003406953372060726),\n",
       " ('watch', 0.003333111751604397),\n",
       " ('attack', 0.00330148269558765),\n",
       " ('day', 0.0032785150641366934),\n",
       " ('year', 0.003275213601038082),\n",
       " ('time', 0.003138508152137251),\n",
       " ('police', 0.003127327537473918),\n",
       " ('car', 0.0031237911964230036),\n",
       " ('look', 0.0030804495876722154),\n",
       " ('love', 0.00302921703647919),\n",
       " ('nuclear', 0.0029978686911194953),\n",
       " ('video', 0.0029866521633926287),\n",
       " ('man', 0.0029483914743568306),\n",
       " ('think', 0.002941587937644363),\n",
       " ('burn', 0.002930882459209824),\n",
       " ('cause', 0.002715172073965959),\n",
       " ('good', 0.0026417589008045418),\n",
       " ('world', 0.002631577600028771),\n",
       " ('service', 0.002329477701857289),\n",
       " ('want', 0.002267786915781911),\n",
       " ('need', 0.0021289416969928437),\n",
       " ('today', 0.0021288362208282696),\n",
       " ('let', 0.0021088172375096897),\n",
       " ('rt', 0.0020742914094073065),\n",
       " ('dead', 0.0019516209679067617),\n",
       " ('life', 0.0019329485119723186),\n",
       " ('know', 0.0019306718286301356),\n",
       " ('drown', 0.0015908326281535384),\n",
       " ('scream', 0.0015485971984591706),\n",
       " ('X', 0.0013406816889009075),\n",
       " ('PUNCT', 0.0002404936163444961)]"
      ]
     },
     "execution_count": 109,
     "metadata": {},
     "output_type": "execute_result"
    }
   ],
   "source": [
    "sorted(list(zip(X_train_combined_df_scaled.columns, some_model.feature_importances_.tolist())), key=lambda x: x[1], reverse=True)"
   ]
  },
  {
   "cell_type": "code",
   "execution_count": 77,
   "metadata": {},
   "outputs": [
    {
     "name": "stdout",
     "output_type": "stream",
     "text": [
      "Notebook run time: 8 minutes and 11 seconds\n"
     ]
    }
   ],
   "source": [
    "# Total time:\n",
    "t = time.time() - start_time\n",
    "print(f'Notebook run time: {t//60:.0f} minutes and {t%60:.0f} seconds')"
   ]
  }
 ],
 "metadata": {
  "kernelspec": {
   "display_name": "Python 3.8.5 ('learn-env')",
   "language": "python",
   "name": "python3"
  },
  "language_info": {
   "codemirror_mode": {
    "name": "ipython",
    "version": 3
   },
   "file_extension": ".py",
   "mimetype": "text/x-python",
   "name": "python",
   "nbconvert_exporter": "python",
   "pygments_lexer": "ipython3",
   "version": "3.8.5"
  },
  "orig_nbformat": 4,
  "vscode": {
   "interpreter": {
    "hash": "e508bc85c11e03fe10d0c37e7996d01ac3bac0c8b57b70908c892ac1dabf0c16"
   }
  }
 },
 "nbformat": 4,
 "nbformat_minor": 2
}
